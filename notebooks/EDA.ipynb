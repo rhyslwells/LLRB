{
 "cells": [
  {
   "cell_type": "markdown",
   "id": "b0a355cb",
   "metadata": {},
   "source": [
    "# LLRB EDA \n"
   ]
  },
  {
   "cell_type": "code",
   "execution_count": 4,
   "id": "1c9399fa",
   "metadata": {},
   "outputs": [
    {
     "name": "stdout",
     "output_type": "stream",
     "text": [
      "  Date of Shout Time of Shout Pager Code     Location of Shout  \\\n",
      "0    21/07/2023         15:05    9992167  Inchtavvanch channel   \n",
      "1    19/07/2023         18:44        333                Ardlui   \n",
      "2    16/07/2023         11:10        999     South of Inverbeg   \n",
      "3    08/07/2023         09:44        333               Duckbay   \n",
      "4    05/07/2023          1849        222        Boturich shore   \n",
      "\n",
      "                                       Shout Details Time Boat Launched  \\\n",
      "0  Call on channel 16 saying swimmer in water, in...               1520   \n",
      "1  17' Fletcher speedboat with 1 male occupant ha...               1900   \n",
      "2  Concern  for missing kayaker that hasnt return...           On water   \n",
      "3  Reports of a small craft adrift out in front o...              09:55   \n",
      "4  Crew were paged to a small bayliner with an en...               1904   \n",
      "\n",
      "  Time boat returned             Crew on Board Crew on Shore  \\\n",
      "0              16:15                RB TR AMCD        GH DON   \n",
      "1              20.15  RB, CG, TR, AB jnr, AMcL    RO, AB snr   \n",
      "2              12:15                  Rb RO GH            Na   \n",
      "3              10:30               DS, AM, AJM        TR, DO   \n",
      "4               2004        ABsnr, EMc, JB, CG        RB, AM   \n",
      "\n",
      "      Weather at time of shout  \n",
      "0                       Lovely  \n",
      "1                 Sunny, windy  \n",
      "2  West wind     heavy showers  \n",
      "3                 Dry and warm  \n",
      "4                   Dry, sunny  \n"
     ]
    }
   ],
   "source": [
    "import pandas as pd \n",
    "\n",
    "df = pd.read_csv(\"../data/combined.csv\")\n",
    "df.drop('Unnamed: 10', axis=1, inplace=True)\n",
    "print(df.head())\n"
   ]
  },
  {
   "cell_type": "code",
   "execution_count": 8,
   "id": "5d85875a",
   "metadata": {},
   "outputs": [],
   "source": [
    "df['Date of Shout'] = pd.to_datetime(df['Date of Shout'], errors='coerce')\n",
    "df['Time of Shout'] = pd.to_datetime(df['Time of Shout'], errors='coerce', format='%H:%M %p').dt.time\n",
    "df['Time Boat Launched'] = pd.to_datetime(df['Time Boat Launched'], errors='coerce', format='%H:%M %p').dt.time\n",
    "df['Time boat returned'] = pd.to_datetime(df['Time boat returned'], errors='coerce', format='%H:%M %p').dt.time\n"
   ]
  },
  {
   "cell_type": "code",
   "execution_count": 9,
   "id": "8d081956",
   "metadata": {},
   "outputs": [
    {
     "name": "stdout",
     "output_type": "stream",
     "text": [
      "  Date of Shout Time of Shout Pager Code     Location of Shout  \\\n",
      "0    2023-07-21      15:05:00    9992167  Inchtavvanch channel   \n",
      "1    2023-07-19      18:44:00        333                Ardlui   \n",
      "2    2023-07-16      11:10:00        999     South of Inverbeg   \n",
      "3    2023-07-08      09:44:00        333               Duckbay   \n",
      "4    2023-07-05      00:00:00        222        Boturich shore   \n",
      "\n",
      "                                       Shout Details Time Boat Launched  \\\n",
      "0  Call on channel 16 saying swimmer in water, in...                NaT   \n",
      "1  17' Fletcher speedboat with 1 male occupant ha...           00:00:00   \n",
      "2  Concern  for missing kayaker that hasnt return...                NaT   \n",
      "3  Reports of a small craft adrift out in front o...           09:55:00   \n",
      "4  Crew were paged to a small bayliner with an en...           00:00:00   \n",
      "\n",
      "  Time boat returned             Crew on Board Crew on Shore  \\\n",
      "0           16:15:00                RB TR AMCD        GH DON   \n",
      "1                NaT  RB, CG, TR, AB jnr, AMcL    RO, AB snr   \n",
      "2           12:15:00                  Rb RO GH            Na   \n",
      "3           10:30:00               DS, AM, AJM        TR, DO   \n",
      "4           00:00:00        ABsnr, EMc, JB, CG        RB, AM   \n",
      "\n",
      "      Weather at time of shout  \n",
      "0                       Lovely  \n",
      "1                 Sunny, windy  \n",
      "2  West wind     heavy showers  \n",
      "3                 Dry and warm  \n",
      "4                   Dry, sunny  \n"
     ]
    }
   ],
   "source": [
    "print(df.head())\n"
   ]
  },
  {
   "cell_type": "code",
   "execution_count": null,
   "id": "52b2b3c4",
   "metadata": {},
   "outputs": [],
   "source": []
  }
 ],
 "metadata": {
  "kernelspec": {
   "display_name": "Python 3 (ipykernel)",
   "language": "python",
   "name": "python3"
  },
  "language_info": {
   "codemirror_mode": {
    "name": "ipython",
    "version": 3
   },
   "file_extension": ".py",
   "mimetype": "text/x-python",
   "name": "python",
   "nbconvert_exporter": "python",
   "pygments_lexer": "ipython3",
   "version": "3.10.12"
  }
 },
 "nbformat": 4,
 "nbformat_minor": 5
}
