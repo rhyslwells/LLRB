{
 "cells": [
  {
   "cell_type": "markdown",
   "metadata": {},
   "source": [
    "# Overview"
   ]
  },
  {
   "cell_type": "code",
   "execution_count": 87,
   "metadata": {},
   "outputs": [],
   "source": [
    "import matplotlib as plt\n",
    "import numpy as np\n",
    "import pandas as pd"
   ]
  },
  {
   "cell_type": "code",
   "execution_count": 88,
   "metadata": {},
   "outputs": [],
   "source": [
    "# data\n",
    "df = pd.read_csv(\"..\\data\\cleaned.csv\")\n",
    "\n",
    "df.columns.tolist()\n",
    "feats=['date_of_shout','time_of_shout',\n",
    "'time_boat_launched',\n",
    "'time_boat_returned',\n",
    "'pager_code',\n",
    "'what_three_words',\n",
    "'location_of_shout',\n",
    "'core_long_lat',\n",
    "'adjustment_km',\n",
    "'adj_long_lat',\n",
    "'shout_details',\n",
    "'shout_details_tags',\n",
    "'crew_on_board',\n",
    "'crew_on_shore',\n",
    "'weather_at_time_of_shout']\n"
   ]
  },
  {
   "cell_type": "markdown",
   "metadata": {
    "vscode": {
     "languageId": "plaintext"
    }
   },
   "source": [
    "# Date analysis"
   ]
  },
  {
   "cell_type": "code",
   "execution_count": null,
   "metadata": {},
   "outputs": [],
   "source": [
    "number of callouts in a given year /quarter."
   ]
  },
  {
   "cell_type": "markdown",
   "metadata": {},
   "source": [
    "\n",
    "# Time analysis\n"
   ]
  },
  {
   "cell_type": "code",
   "execution_count": 89,
   "metadata": {},
   "outputs": [],
   "source": [
    "feats=['time_of_shout','time_boat_launched','time_boat_returned']\n",
    "# dff=df[feats]\n",
    "# As a placeholder for missing values we entered \"00:00\" in for time features\n",
    "#We replace them with NaN\n",
    "# dff[dff[\"time_boat_returned\"] == \"00:00\"].head()\n"
   ]
  },
  {
   "cell_type": "code",
   "execution_count": 90,
   "metadata": {},
   "outputs": [],
   "source": [
    "# If \"00:00\" replace with none\n",
    "# Replace \"00:00\" with NaN\n",
    "df.loc[:, 'time_of_shout'] = df['time_of_shout'].replace(\"00:00\", np.nan)\n",
    "df.loc[:, 'time_boat_launched'] = df['time_boat_launched'].replace(\"00:00\", np.nan)\n",
    "df.loc[:, 'time_boat_returned'] = df['time_boat_returned'].replace(\"00:00\", np.nan)\n",
    "# dff.head(88)"
   ]
  },
  {
   "cell_type": "code",
   "execution_count": 91,
   "metadata": {},
   "outputs": [],
   "source": [
    "# time recorded as 16:04 format\n",
    "df['time_of_shout'] = pd.to_datetime(df['time_of_shout'], format='%H:%M')\n",
    "df['time_boat_launched'] = pd.to_datetime(df['time_boat_launched'], format='%H:%M')\n",
    "df['time_boat_returned'] = pd.to_datetime(df['time_boat_returned'], format='%H:%M')"
   ]
  },
  {
   "cell_type": "code",
   "execution_count": 92,
   "metadata": {},
   "outputs": [],
   "source": [
    "# # determine time between \"time_of_shout\" and \"time_boat_launched\" if values are not NaN\n",
    "# df['difference_minutes_shout_launch'] = df.apply(\n",
    "#     lambda row: (row['time_boat_launched'] - row['time_of_shout']).total_seconds() / 60 \n",
    "#     if pd.notnull(row['time_of_shout']) and pd.notnull(row['time_boat_launched']) else np.nan, axis=1)\n",
    "\n",
    "# # determine time between \"time_boat_launched\" and \"time_boat_returned\" if values are not NaN\n",
    "# df['difference_minutes_launch_return'] = df.apply(\n",
    "#     lambda row: (row['time_boat_returned'] - row['time_boat_launched']).total_seconds() / 60 \n",
    "#     if pd.notnull(row['time_boat_launched']) and pd.notnull(row['time_boat_returned']) else np.nan, axis=1)"
   ]
  },
  {
   "cell_type": "code",
   "execution_count": 93,
   "metadata": {},
   "outputs": [],
   "source": [
    "# Define a function to calculate time difference considering crossing midnight\n",
    "def time_difference(start, end):\n",
    "    if start <= end:\n",
    "        return (end - start).total_seconds() / 60\n",
    "    else:\n",
    "        midnight = pd.Timestamp(end.date()) + pd.Timedelta(days=1)\n",
    "        return (midnight - start).total_seconds() / 60 + (end - pd.Timestamp(end.date())).total_seconds() / 60\n",
    "\n",
    "# Determine time between \"time_of_shout\" and \"time_boat_launched\" if values are not NaN\n",
    "df['difference_minutes_shout_launch'] = df.apply(\n",
    "    lambda row: time_difference(row['time_of_shout'], row['time_boat_launched'])\n",
    "    if pd.notnull(row['time_of_shout']) and pd.notnull(row['time_boat_launched']) else np.nan, axis=1)\n",
    "\n",
    "# Determine time between \"time_boat_launched\" and \"time_boat_returned\" if values are not NaN\n",
    "df['difference_minutes_launch_return'] = df.apply(\n",
    "    lambda row: time_difference(row['time_boat_launched'], row['time_boat_returned'])\n",
    "    if pd.notnull(row['time_boat_launched']) and pd.notnull(row['time_boat_returned']) else np.nan, axis=1)"
   ]
  },
  {
   "cell_type": "code",
   "execution_count": 94,
   "metadata": {},
   "outputs": [],
   "source": [
    "# # dOnt want negative times, determine entry where are negative\n",
    "# #for \"difference_minutes_shout_launch\" which are negative?\n",
    "# df[df[\"difference_minutes_shout_launch\"]<0].head()\n",
    "# x=[\"difference_minutes_shout_launch\",\"difference_minutes_launch_return\"]\n",
    "# df[x]\n",
    "# #plot these values \n",
    "# df[x].plot(kind='box')\n",
    "\n",
    "feats_more=feats+[\"difference_minutes_shout_launch\",'difference_minutes_launch_return']\n"
   ]
  },
  {
   "cell_type": "code",
   "execution_count": 99,
   "metadata": {},
   "outputs": [
    {
     "name": "stdout",
     "output_type": "stream",
     "text": [
      "(0, 17)\n"
     ]
    }
   ],
   "source": [
    "# Don't want negative times, determine entries where are negative\n",
    "# For \"difference_minutes_shout_launch\" which are negative?\n",
    "negative_diff = df[df[\"difference_minutes_shout_launch\"] < 0]\n",
    "# print(negative_diff.head())\n",
    "print(negative_diff.shape)\n",
    "neg_difference_minutes_shout_launch = negative_diff[feats_more]\n"
   ]
  },
  {
   "cell_type": "code",
   "execution_count": 100,
   "metadata": {},
   "outputs": [
    {
     "data": {
      "text/html": [
       "<div>\n",
       "<style scoped>\n",
       "    .dataframe tbody tr th:only-of-type {\n",
       "        vertical-align: middle;\n",
       "    }\n",
       "\n",
       "    .dataframe tbody tr th {\n",
       "        vertical-align: top;\n",
       "    }\n",
       "\n",
       "    .dataframe thead th {\n",
       "        text-align: right;\n",
       "    }\n",
       "</style>\n",
       "<table border=\"1\" class=\"dataframe\">\n",
       "  <thead>\n",
       "    <tr style=\"text-align: right;\">\n",
       "      <th></th>\n",
       "      <th>time_of_shout</th>\n",
       "      <th>time_boat_launched</th>\n",
       "      <th>time_boat_returned</th>\n",
       "      <th>difference_minutes_shout_launch</th>\n",
       "      <th>difference_minutes_launch_return</th>\n",
       "    </tr>\n",
       "  </thead>\n",
       "  <tbody>\n",
       "  </tbody>\n",
       "</table>\n",
       "</div>"
      ],
      "text/plain": [
       "Empty DataFrame\n",
       "Columns: [time_of_shout, time_boat_launched, time_boat_returned, difference_minutes_shout_launch, difference_minutes_launch_return]\n",
       "Index: []"
      ]
     },
     "execution_count": 100,
     "metadata": {},
     "output_type": "execute_result"
    }
   ],
   "source": [
    "neg_difference_minutes_shout_launch.head()"
   ]
  },
  {
   "cell_type": "code",
   "execution_count": 101,
   "metadata": {},
   "outputs": [
    {
     "name": "stdout",
     "output_type": "stream",
     "text": [
      "(0, 17)\n"
     ]
    }
   ],
   "source": [
    "# Don't want negative times, determine entries where are negative\n",
    "# For \"difference_minutes_launch_return\" which are negative?\n",
    "negative_diff = df[df[\"difference_minutes_launch_return\"] < 0]\n",
    "print(negative_diff.shape)\n",
    "neg_difference_minutes_launch_return = negative_diff[feats_more]"
   ]
  },
  {
   "cell_type": "code",
   "execution_count": 102,
   "metadata": {},
   "outputs": [
    {
     "data": {
      "text/html": [
       "<div>\n",
       "<style scoped>\n",
       "    .dataframe tbody tr th:only-of-type {\n",
       "        vertical-align: middle;\n",
       "    }\n",
       "\n",
       "    .dataframe tbody tr th {\n",
       "        vertical-align: top;\n",
       "    }\n",
       "\n",
       "    .dataframe thead th {\n",
       "        text-align: right;\n",
       "    }\n",
       "</style>\n",
       "<table border=\"1\" class=\"dataframe\">\n",
       "  <thead>\n",
       "    <tr style=\"text-align: right;\">\n",
       "      <th></th>\n",
       "      <th>time_of_shout</th>\n",
       "      <th>time_boat_launched</th>\n",
       "      <th>time_boat_returned</th>\n",
       "      <th>difference_minutes_shout_launch</th>\n",
       "      <th>difference_minutes_launch_return</th>\n",
       "    </tr>\n",
       "  </thead>\n",
       "  <tbody>\n",
       "  </tbody>\n",
       "</table>\n",
       "</div>"
      ],
      "text/plain": [
       "Empty DataFrame\n",
       "Columns: [time_of_shout, time_boat_launched, time_boat_returned, difference_minutes_shout_launch, difference_minutes_launch_return]\n",
       "Index: []"
      ]
     },
     "execution_count": 102,
     "metadata": {},
     "output_type": "execute_result"
    }
   ],
   "source": [
    "neg_difference_minutes_launch_return.head()\n",
    "\n",
    "# need to correct if goes pass 00:00 (in second case time_boat_returned is after 00:00)"
   ]
  },
  {
   "cell_type": "code",
   "execution_count": 85,
   "metadata": {},
   "outputs": [
    {
     "data": {
      "text/plain": [
       "<Axes: >"
      ]
     },
     "execution_count": 85,
     "metadata": {},
     "output_type": "execute_result"
    },
    {
     "data": {
      "image/png": "[encoded data removed]",
      "text/plain": [
       "<Figure size 640x480 with 1 Axes>"
      ]
     },
     "metadata": {},
     "output_type": "display_data"
    }
   ],
   "source": [
    "\n",
    "# Handle NaN values before plotting\n",
    "df_filled = df.fillna(0)\n",
    "\n",
    "x = [\"difference_minutes_shout_launch\", \"difference_minutes_launch_return\"]\n",
    "\n",
    "# Plot these values \n",
    "df_filled[x].plot(kind='box')"
   ]
  },
  {
   "cell_type": "code",
   "execution_count": null,
   "metadata": {},
   "outputs": [],
   "source": [
    "x=['time_of_shout','time_boat_launched',\"difference_minutes_shout_launch\",'time_boat_launched','time_boat_returned',\"difference_minutes_launch_return\"]\n",
    "df[x].head()"
   ]
  },
  {
   "cell_type": "code",
   "execution_count": 28,
   "metadata": {},
   "outputs": [
    {
     "data": {
      "text/html": [
       "<div>\n",
       "<style scoped>\n",
       "    .dataframe tbody tr th:only-of-type {\n",
       "        vertical-align: middle;\n",
       "    }\n",
       "\n",
       "    .dataframe tbody tr th {\n",
       "        vertical-align: top;\n",
       "    }\n",
       "\n",
       "    .dataframe thead th {\n",
       "        text-align: right;\n",
       "    }\n",
       "</style>\n",
       "<table border=\"1\" class=\"dataframe\">\n",
       "  <thead>\n",
       "    <tr style=\"text-align: right;\">\n",
       "      <th></th>\n",
       "      <th>date_of_shout</th>\n",
       "      <th>time_of_shout</th>\n",
       "      <th>time_boat_launched</th>\n",
       "      <th>time_boat_returned</th>\n",
       "      <th>pager_code</th>\n",
       "      <th>what_three_words</th>\n",
       "      <th>location_of_shout</th>\n",
       "      <th>core_long_lat</th>\n",
       "      <th>adjustment_km</th>\n",
       "      <th>adj_long_lat</th>\n",
       "      <th>shout_details</th>\n",
       "      <th>shout_details_tags</th>\n",
       "      <th>crew_on_board</th>\n",
       "      <th>crew_on_shore</th>\n",
       "      <th>weather_at_time_of_shout</th>\n",
       "      <th>difference_minutes_shout_launch</th>\n",
       "      <th>difference_minutes_launch_return</th>\n",
       "    </tr>\n",
       "  </thead>\n",
       "  <tbody>\n",
       "    <tr>\n",
       "      <th>14</th>\n",
       "      <td>14/06/2023</td>\n",
       "      <td>1900-01-01 19:15:00</td>\n",
       "      <td>1900-01-01 19:08:00</td>\n",
       "      <td>1900-01-01 21:15:00</td>\n",
       "      <td>222</td>\n",
       "      <td>NaN</td>\n",
       "      <td>duck bay marina</td>\n",
       "      <td>56.015875525440634, -4.608751849497498</td>\n",
       "      <td>s,2</td>\n",
       "      <td>NaN</td>\n",
       "      <td>Crew were out on training when flagged down by...</td>\n",
       "      <td>Medical, Transport</td>\n",
       "      <td>RB, ABS, DON, JB, EM, GD</td>\n",
       "      <td>NaN</td>\n",
       "      <td>Sunny, dry</td>\n",
       "      <td>-7.0</td>\n",
       "      <td>127.0</td>\n",
       "    </tr>\n",
       "    <tr>\n",
       "      <th>39</th>\n",
       "      <td>12/03/2023</td>\n",
       "      <td>1900-01-01 12:02:00</td>\n",
       "      <td>1900-01-01 10:30:00</td>\n",
       "      <td>1900-01-01 13:35:00</td>\n",
       "      <td>999</td>\n",
       "      <td>NaN</td>\n",
       "      <td>Duncan Mills Slip Way</td>\n",
       "      <td>56.00811093271105, -4.59079415208642</td>\n",
       "      <td>NaN</td>\n",
       "      <td>NaN</td>\n",
       "      <td>Crew made aware of two persons fallen into the...</td>\n",
       "      <td>Search, Rescue</td>\n",
       "      <td>DON, GERARD  ,AM , RO , PBT</td>\n",
       "      <td>NaN</td>\n",
       "      <td>raining,light</td>\n",
       "      <td>-92.0</td>\n",
       "      <td>185.0</td>\n",
       "    </tr>\n",
       "    <tr>\n",
       "      <th>80</th>\n",
       "      <td>19/08/2023</td>\n",
       "      <td>1900-01-01 16:45:00</td>\n",
       "      <td>1900-01-01 11:00:00</td>\n",
       "      <td>1900-01-01 17:00:00</td>\n",
       "      <td>222</td>\n",
       "      <td>NaN</td>\n",
       "      <td>Ardlui</td>\n",
       "      <td>56.05088096606834, -4.603218646384661</td>\n",
       "      <td>NaN</td>\n",
       "      <td>NaN</td>\n",
       "      <td>Charity day, on return to Balloch we were info...</td>\n",
       "      <td>Mechanical, Rescue, Transport</td>\n",
       "      <td>ABS, TR, EM, DO</td>\n",
       "      <td>NaN</td>\n",
       "      <td>Rain, stROng southerly wind</td>\n",
       "      <td>-345.0</td>\n",
       "      <td>360.0</td>\n",
       "    </tr>\n",
       "    <tr>\n",
       "      <th>83</th>\n",
       "      <td>26/08/2023</td>\n",
       "      <td>1900-01-01 22:00:00</td>\n",
       "      <td>1900-01-01 00:00:00</td>\n",
       "      <td>1900-01-01 23:20:00</td>\n",
       "      <td>222</td>\n",
       "      <td>NaN</td>\n",
       "      <td>inchmurrin</td>\n",
       "      <td>56.05045207483461, -4.604535200252212</td>\n",
       "      <td>e,2</td>\n",
       "      <td>NaN</td>\n",
       "      <td>Whilst on previous shout we were made aware of...</td>\n",
       "      <td>Miscellaneous</td>\n",
       "      <td>RB, DS, GH, CG</td>\n",
       "      <td>DON,JB</td>\n",
       "      <td>Flat light, misty</td>\n",
       "      <td>-1320.0</td>\n",
       "      <td>1400.0</td>\n",
       "    </tr>\n",
       "    <tr>\n",
       "      <th>87</th>\n",
       "      <td>15/08/2023</td>\n",
       "      <td>1900-01-01 13:15:00</td>\n",
       "      <td>1900-01-01 00:00:00</td>\n",
       "      <td>1900-01-01 00:00:00</td>\n",
       "      <td>999</td>\n",
       "      <td>NaN</td>\n",
       "      <td>Luss</td>\n",
       "      <td>56.10297731643803, -4.637896988771806</td>\n",
       "      <td>NaN</td>\n",
       "      <td>NaN</td>\n",
       "      <td>Police Scotland tried to page us for cardiac a...</td>\n",
       "      <td>Mechanical, Rescue, Transport</td>\n",
       "      <td>NaN</td>\n",
       "      <td>RB, IG, TR, GH</td>\n",
       "      <td>Calm,close</td>\n",
       "      <td>-795.0</td>\n",
       "      <td>0.0</td>\n",
       "    </tr>\n",
       "  </tbody>\n",
       "</table>\n",
       "</div>"
      ],
      "text/plain": [
       "   date_of_shout       time_of_shout  time_boat_launched  time_boat_returned  \\\n",
       "14    14/06/2023 1900-01-01 19:15:00 1900-01-01 19:08:00 1900-01-01 21:15:00   \n",
       "39    12/03/2023 1900-01-01 12:02:00 1900-01-01 10:30:00 1900-01-01 13:35:00   \n",
       "80    19/08/2023 1900-01-01 16:45:00 1900-01-01 11:00:00 1900-01-01 17:00:00   \n",
       "83    26/08/2023 1900-01-01 22:00:00 1900-01-01 00:00:00 1900-01-01 23:20:00   \n",
       "87    15/08/2023 1900-01-01 13:15:00 1900-01-01 00:00:00 1900-01-01 00:00:00   \n",
       "\n",
       "   pager_code what_three_words      location_of_shout  \\\n",
       "14        222              NaN        duck bay marina   \n",
       "39        999              NaN  Duncan Mills Slip Way   \n",
       "80        222              NaN                 Ardlui   \n",
       "83        222              NaN             inchmurrin   \n",
       "87        999              NaN                   Luss   \n",
       "\n",
       "                             core_long_lat adjustment_km  adj_long_lat  \\\n",
       "14  56.015875525440634, -4.608751849497498           s,2           NaN   \n",
       "39    56.00811093271105, -4.59079415208642           NaN           NaN   \n",
       "80   56.05088096606834, -4.603218646384661           NaN           NaN   \n",
       "83   56.05045207483461, -4.604535200252212           e,2           NaN   \n",
       "87   56.10297731643803, -4.637896988771806           NaN           NaN   \n",
       "\n",
       "                                        shout_details  \\\n",
       "14  Crew were out on training when flagged down by...   \n",
       "39  Crew made aware of two persons fallen into the...   \n",
       "80  Charity day, on return to Balloch we were info...   \n",
       "83  Whilst on previous shout we were made aware of...   \n",
       "87  Police Scotland tried to page us for cardiac a...   \n",
       "\n",
       "               shout_details_tags                crew_on_board  \\\n",
       "14             Medical, Transport     RB, ABS, DON, JB, EM, GD   \n",
       "39                 Search, Rescue  DON, GERARD  ,AM , RO , PBT   \n",
       "80  Mechanical, Rescue, Transport              ABS, TR, EM, DO   \n",
       "83                  Miscellaneous               RB, DS, GH, CG   \n",
       "87  Mechanical, Rescue, Transport                          NaN   \n",
       "\n",
       "     crew_on_shore     weather_at_time_of_shout  \\\n",
       "14             NaN                   Sunny, dry   \n",
       "39             NaN                raining,light   \n",
       "80             NaN  Rain, stROng southerly wind   \n",
       "83          DON,JB            Flat light, misty   \n",
       "87  RB, IG, TR, GH                   Calm,close   \n",
       "\n",
       "    difference_minutes_shout_launch  difference_minutes_launch_return  \n",
       "14                             -7.0                             127.0  \n",
       "39                            -92.0                             185.0  \n",
       "80                           -345.0                             360.0  \n",
       "83                          -1320.0                            1400.0  \n",
       "87                           -795.0                               0.0  "
      ]
     },
     "execution_count": 28,
     "metadata": {},
     "output_type": "execute_result"
    },
    {
     "data": {
      "image/png": "[encoded data removed]",
      "text/plain": [
       "<Figure size 640x480 with 1 Axes>"
      ]
     },
     "metadata": {},
     "output_type": "display_data"
    }
   ],
   "source": [
    "\n",
    "\n",
    "\n",
    "\n"
   ]
  },
  {
   "cell_type": "markdown",
   "metadata": {},
   "source": [
    "\n",
    "## Pager codes and length of time taken\n"
   ]
  },
  {
   "cell_type": "code",
   "execution_count": null,
   "metadata": {},
   "outputs": [],
   "source": [
    "\n",
    "\n",
    "\n",
    "# Define the time range from 06:00 to 23:59\n",
    "start_time = 6 * 60  # 06:00 in minutes\n",
    "end_time = 23 * 60 + 59  # 23:59 in minutes\n",
    "\n",
    "# Generate random data points within the time range\n",
    "num_points = 40\n",
    "np.random.seed(0)  # For reproducibility\n",
    "data_point_times = np.random.uniform(start_time, end_time, num_points)\n",
    "data_point_durations = np.random.randint(60, 180, num_points)  # Random durations between 60 and 180 minutes\n",
    "\n",
    "# Plotting the line marking the time range\n",
    "plt.axvline(x=start_time, color='gray', linestyle='--')\n",
    "plt.axvline(x=end_time, color='gray', linestyle='--')\n",
    "\n",
    "# Plotting the data points as bars\n",
    "for time, duration in zip(data_point_times, data_point_durations):\n",
    "    plt.bar(time, duration, color='red', width=10)  # Adjust width as needed\n",
    "\n",
    "# Adding labels and title\n",
    "plt.xlabel('Time (hours)')\n",
    "plt.ylabel('Duration (minutes)')\n",
    "plt.title('Data Points within Time Range')\n",
    "\n",
    "# Setting x-axis limits\n",
    "plt.xlim(start_time, end_time)\n",
    "\n",
    "# Display the plot\n",
    "plt.show()"
   ]
  },
  {
   "cell_type": "markdown",
   "metadata": {},
   "source": [
    "\n",
    "## Pager and times begun (boxplot)\n",
    "\n",
    "## length of time and top 10 incidents? \n"
   ]
  },
  {
   "cell_type": "markdown",
   "metadata": {},
   "source": [
    "\n",
    "# Crew analysis\n"
   ]
  },
  {
   "cell_type": "markdown",
   "metadata": {},
   "source": [
    "\n",
    "## crew appearances (numbers)"
   ]
  },
  {
   "cell_type": "code",
   "execution_count": 5,
   "metadata": {},
   "outputs": [
    {
     "data": {
      "text/plain": [
       "Index(['date_of_shout', 'time_of_shout', 'time_boat_launched', 'pager_code',\n",
       "       'what_three_words', 'location_of_shout', 'Unnamed: 6', 'core_long_lat',\n",
       "       'adjustment_km', 'adj_long_lat', 'shout_details', 'shout_details_tags',\n",
       "       'crew_on_board', 'crew_on_shore', 'weather_at_time_of_shout'],\n",
       "      dtype='object')"
      ]
     },
     "execution_count": 5,
     "metadata": {},
     "output_type": "execute_result"
    }
   ],
   "source": [
    "df.columns\n",
    "feats=['date_of_shout','time_of_shout',\n",
    "'time_boat_launched',\n",
    "'time_boat_returned',\n",
    "'pager_code',\n",
    "'what_three_words',\n",
    "'location_of_shout',\n",
    "'core_long_lat',\n",
    "'adjustment_km',\n",
    "'adj_long_lat',\n",
    "'shout_details',\n",
    "'shout_details_tags',\n",
    "'crew_on_board',\n",
    "'crew_on_shore',\n",
    "'weather_at_time_of_shout']\n"
   ]
  },
  {
   "cell_type": "code",
   "execution_count": null,
   "metadata": {},
   "outputs": [],
   "source": [
    "coxswains=[\"RB\",\"RO\",\"IG\",\"AM\",\"ABS\"]\n",
    "satfy_advisors=[\"ABS\",\"DON\"]\n",
    "\n",
    "# Example data as a list of comma-separated strings\n",
    "data = ['AB,CD,EF', 'GH,IJ,KL', 'AB,CD,XY', 'AB,XY,CD', 'EF,CD,AB']\n",
    "df[\"crew\"]\n",
    "\n",
    "def counter(given_initials, data):\n",
    "    # Count the number of occurrences of the given set of initials\n",
    "    dict={\"999\":0,\"333\":0,\"222\":0}\n",
    "    count = 0\n",
    "    for entry in data:\n",
    "        if given_initials in entry:\n",
    "            count += 1\n",
    "\n",
    "    return dict"
   ]
  },
  {
   "cell_type": "code",
   "execution_count": null,
   "metadata": {},
   "outputs": [],
   "source": [
    "\n",
    "#example\n",
    "counter(\"RB\", data)\n"
   ]
  },
  {
   "cell_type": "markdown",
   "metadata": {},
   "source": [
    "\n",
    "## Crew and pager codes (partitioned bar graph - number of incidents attended)\n",
    "\n"
   ]
  },
  {
   "cell_type": "code",
   "execution_count": null,
   "metadata": {},
   "outputs": [],
   "source": [
    "import matplotlib.pyplot as plt\n",
    "\n",
    "# Data for the bar graph\n",
    "categories = ['Category A', 'Category B', 'Category C']\n",
    "values_part1 = [10, 15, 20]  # Values for part 1 of each category\n",
    "values_part2 = [5, 10, 15]    # Values for part 2 of each category\n",
    "\n",
    "# Colors for each part\n",
    "colors_part1 = ['blue', 'green', 'red']\n",
    "colors_part2 = ['lightblue', 'lightgreen', 'lightcoral']\n",
    "\n",
    "# Plotting the bar graph\n",
    "plt.figure(figsize=(8, 6))\n",
    "\n",
    "plt.bar(categories, values_part1, color=colors_part1, label='Part 1')\n",
    "plt.bar(categories, values_part2, color=colors_part2, label='Part 2', bottom=values_part1)\n",
    "\n",
    "# Adding labels and title\n",
    "plt.xlabel('Categories')\n",
    "plt.ylabel('Values')\n",
    "plt.title('Bar Graph Decomposed into Parts')\n",
    "plt.legend()\n",
    "\n",
    "# Display the plot\n",
    "plt.show()\n",
    "\n",
    "import pandas as pd\n",
    "\n",
    "# Example data\n",
    "data = {\n",
    "    'Initials': ['AB,CD,EF', 'GH,IJ,KL', 'AB,CD,XY', 'AB,XY,CD', 'EF,CD,AB'],\n",
    "    'Pager': [999, 333, 222, 999, 222]\n",
    "}\n",
    "\n",
    "# Create a DataFrame\n",
    "df = pd.DataFrame(data)\n",
    "\n",
    "# Given set of initials to search for\n",
    "given_initials = 'AB'\n",
    "\n",
    "# Group by initials and collect pagers\n",
    "grouped = df.groupby('Initials')['Pager'].apply(list).reset_index()\n",
    "\n",
    "# Filter the DataFrame to get the pagers for the given set of initials\n",
    "pagers = grouped[grouped['Initials'].str.contains(given_initials)]['Pager'].tolist()\n",
    "\n",
    "print(f\"The pagers for the given set of initials '{given_initials}' are:\")\n",
    "for pager_list in pagers:\n",
    "    print(pager_list)"
   ]
  },
  {
   "cell_type": "markdown",
   "metadata": {},
   "source": [
    "\n",
    "## Coxwains and who would be best to train next - experience\n"
   ]
  },
  {
   "cell_type": "markdown",
   "metadata": {},
   "source": [
    "\n",
    "\n",
    "# Pager \n"
   ]
  },
  {
   "cell_type": "markdown",
   "metadata": {},
   "source": [
    "\n",
    "## (number of incidents in a date range) (spring/summer/autum/winter(barplot)\n"
   ]
  },
  {
   "cell_type": "markdown",
   "metadata": {},
   "source": [
    "# shout tags"
   ]
  },
  {
   "cell_type": "markdown",
   "metadata": {},
   "source": [
    "\n",
    "## shout tags - dates?\n",
    "\n",
    "## shout tags and time taken.\n",
    "\n",
    "\n",
    "\n",
    "\n"
   ]
  },
  {
   "cell_type": "markdown",
   "metadata": {},
   "source": []
  }
 ],
 "metadata": {
  "kernelspec": {
   "display_name": "venv",
   "language": "python",
   "name": "python3"
  },
  "language_info": {
   "codemirror_mode": {
    "name": "ipython",
    "version": 3
   },
   "file_extension": ".py",
   "mimetype": "text/x-python",
   "name": "python",
   "nbconvert_exporter": "python",
   "pygments_lexer": "ipython3",
   "version": "3.10.8"
  }
 },
 "nbformat": 4,
 "nbformat_minor": 2
}
