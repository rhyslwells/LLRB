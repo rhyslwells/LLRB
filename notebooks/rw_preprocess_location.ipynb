{
 "cells": [
  {
   "cell_type": "markdown",
   "id": "0796bca3",
   "metadata": {},
   "source": [
    "We now clean more involved features."
   ]
  },
  {
   "cell_type": "markdown",
   "id": "b0a355cb",
   "metadata": {},
   "source": [
    "Notes:\n",
    "\n",
    "- Getting precise locations for incidents may be hard, so we may need to use a proxy for incidents in the form of \"what 3 words\" data. \n",
    "- For locations that are general in area, pick a specific spot. Remember that for a search in rescue a spcific location may be difficult to find.\n",
    "\n",
    "In the future can we get memeber to record what 3 words data for incidents."
   ]
  },
  {
   "cell_type": "code",
   "execution_count": 19,
   "id": "1c9399fa",
   "metadata": {},
   "outputs": [],
   "source": [
    "import pandas as pd \n",
    "\n",
    "df = pd.read_csv(\"../data\\preprocessed_dates_time_data.csv\")\n",
    "# df.drop(columns=[\"shout_details\"], inplace=True)\n",
    "# df.columns"
   ]
  },
  {
   "cell_type": "code",
   "execution_count": 20,
   "id": "f34ca762",
   "metadata": {},
   "outputs": [],
   "source": [
    "features_interest = ['pager_code', 'location_of_shout','shout_details','crew_on_board', 'crew_on_shore', 'weather_at_time_of_shout']\n",
    "df = df[features_interest]\n",
    "# df.head()"
   ]
  },
  {
   "cell_type": "markdown",
   "id": "6072be6a",
   "metadata": {},
   "source": [
    "# pager_code"
   ]
  },
  {
   "cell_type": "markdown",
   "id": "8784d532",
   "metadata": {},
   "source": [
    "Given pager_code take first three letters as the code, if there are more than three letters, take the next three letters as subcode.\n"
   ]
  },
  {
   "cell_type": "markdown",
   "id": "938569a5",
   "metadata": {},
   "source": [
    "Identify all rows that are of form 999,333,222 only. For the subcode put None."
   ]
  },
  {
   "cell_type": "code",
   "execution_count": null,
   "id": "816aeff3",
   "metadata": {},
   "outputs": [],
   "source": []
  },
  {
   "cell_type": "markdown",
   "id": "7e65a4b9",
   "metadata": {},
   "source": [
    "Identify all rows that begin with 999,333,222 and have a subcode. Extract subcode and put into subcode."
   ]
  },
  {
   "cell_type": "markdown",
   "id": "8d595be2",
   "metadata": {},
   "source": [
    "df['subcode']"
   ]
  },
  {
   "cell_type": "markdown",
   "id": "48bc8601",
   "metadata": {},
   "source": [
    "Extract rows that do not start with a pager code of the form 999,333,222."
   ]
  },
  {
   "cell_type": "code",
   "execution_count": 23,
   "id": "65326728",
   "metadata": {},
   "outputs": [
    {
     "name": "stdout",
     "output_type": "stream",
     "text": [
      "(69, 6)\n"
     ]
    },
    {
     "data": {
      "text/plain": [
       "array(['On water', 'Nil', 'N/A   AB messaged', 'N/a', 'nan', '3032',\n",
       "       'other / already out', 'AIRWAVE', 'Na on water',\n",
       "       'Na already on water at safety event', '11:30', 'Na already out',\n",
       "       'Na just returned from previous'], dtype=object)"
      ]
     },
     "execution_count": 23,
     "metadata": {},
     "output_type": "execute_result"
    }
   ],
   "source": [
    "#Identify all rows that do not start with:  999,333,222.\n",
    "\n",
    "df_non = df[~df['pager_code'].astype(str).str.match(r'^(999|333|222)')]\n",
    "\n",
    "\n",
    "print(df_non.shape) #108\n",
    "df_non['pager_code'].unique()\n",
    "\n",
    "#do not want items like '9992167', '333/999', use regex if necessary\n",
    "\n",
    "#only want to identify items like 'On water',"
   ]
  }
 ],
 "metadata": {
  "kernelspec": {
   "display_name": "Python 3 (ipykernel)",
   "language": "python",
   "name": "python3"
  },
  "language_info": {
   "codemirror_mode": {
    "name": "ipython",
    "version": 3
   },
   "file_extension": ".py",
   "mimetype": "text/x-python",
   "name": "python",
   "nbconvert_exporter": "python",
   "pygments_lexer": "ipython3",
   "version": "3.10.8"
  }
 },
 "nbformat": 4,
 "nbformat_minor": 5
}
