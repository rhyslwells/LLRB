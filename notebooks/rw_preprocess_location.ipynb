{
 "cells": [
  {
   "cell_type": "markdown",
   "id": "b0a355cb",
   "metadata": {},
   "source": [
    "We now clean more involved features.\n",
    "\n",
    "Notes:\n",
    "\n",
    "- Getting precise locations for incidents may be hard, so we may need to use a proxy for incidents in the form of \"what 3 words\" data. \n",
    "- For locations that are general in area, pick a specific spot. Remember that for a search in rescue a spcific location may be difficult to find.\n",
    "\n",
    "In the future can we get memeber to record what 3 words data for incidents.\n",
    "\n",
    "What do each pager code refer to?"
   ]
  },
  {
   "cell_type": "code",
   "execution_count": 5,
   "id": "1c9399fa",
   "metadata": {},
   "outputs": [],
   "source": [
    "import pandas as pd \n",
    "\n",
    "df = pd.read_csv(\"../data\\preprocessed_dates_time_data.csv\")\n",
    "# df.drop(columns=[\"shout_details\"], inplace=True)\n",
    "# df.columns"
   ]
  },
  {
   "cell_type": "code",
   "execution_count": 6,
   "id": "f34ca762",
   "metadata": {},
   "outputs": [],
   "source": [
    "features_interest = ['pager_code', 'location_of_shout','shout_details','crew_on_board', 'crew_on_shore', 'weather_at_time_of_shout']\n",
    "df = df[features_interest]\n",
    "# df.head()"
   ]
  },
  {
   "cell_type": "markdown",
   "id": "6072be6a",
   "metadata": {},
   "source": [
    "# pager_code"
   ]
  },
  {
   "cell_type": "markdown",
   "id": "8784d532",
   "metadata": {},
   "source": [
    "Given pager_code take first three letters as the code, if there are more than three letters, take the next three letters as subcode.\n"
   ]
  },
  {
   "cell_type": "code",
   "execution_count": 25,
   "id": "38b548ac",
   "metadata": {},
   "outputs": [],
   "source": [
    "df['pager_code'].fillna(\"Na\", inplace=True)"
   ]
  },
  {
   "cell_type": "markdown",
   "id": "938569a5",
   "metadata": {},
   "source": [
    "Identify all rows that are of form 999,333,222 only. For the subcode put None."
   ]
  },
  {
   "cell_type": "code",
   "execution_count": 26,
   "id": "816aeff3",
   "metadata": {},
   "outputs": [],
   "source": [
    "# Identify all rows that are of form 999,333,222 only. For the subcode put None.\n",
    "df_pager_main_only = df['pager_code'].apply(lambda x: x if x in ['999','333','222'] else None)\n",
    "# df_pager_main_only.value_counts()\n",
    "\n",
    "df['subcode']=None\n",
    "# df.head()\n"
   ]
  },
  {
   "cell_type": "markdown",
   "id": "7e65a4b9",
   "metadata": {},
   "source": [
    "Identify all rows that begin with 999,333,222 and have a subcode. Extract subcode and put into subcode."
   ]
  },
  {
   "cell_type": "code",
   "execution_count": 27,
   "id": "8d595be2",
   "metadata": {},
   "outputs": [],
   "source": [
    "df['subcode'] = df['pager_code'].apply(lambda x: str(x)[3:] if x not in df_pager_main_only else None)"
   ]
  },
  {
   "cell_type": "markdown",
   "id": "48bc8601",
   "metadata": {},
   "source": [
    "Extract rows that do not start with a pager code of the form 999,333,222."
   ]
  },
  {
   "cell_type": "code",
   "execution_count": 28,
   "id": "65326728",
   "metadata": {},
   "outputs": [
    {
     "name": "stdout",
     "output_type": "stream",
     "text": [
      "(69, 7)\n"
     ]
    },
    {
     "data": {
      "text/plain": [
       "pager_code\n",
       "Na                                     50\n",
       "other / already out                     5\n",
       "On water                                2\n",
       "AIRWAVE                                 2\n",
       "Na on water                             2\n",
       "Nil                                     1\n",
       "N/A   AB messaged                       1\n",
       "N/a                                     1\n",
       "3032                                    1\n",
       "Na already on water at safety event     1\n",
       "11:30                                   1\n",
       "Na already out                          1\n",
       "Na just returned from previous          1\n",
       "Name: count, dtype: int64"
      ]
     },
     "execution_count": 28,
     "metadata": {},
     "output_type": "execute_result"
    }
   ],
   "source": [
    "#Identify all rows that do not start with:  999,333,222.\n",
    "\n",
    "df_non = df[~df['pager_code'].astype(str).str.match(r'^(999|333|222)')]\n",
    "\n",
    "\n",
    "print(df_non.shape) #69\n",
    "df_non['pager_code'].value_counts()\n",
    "\n",
    "#do not want items like '9992167', '333/999', use regex if necessary\n",
    "\n",
    "#only want to identify items like 'On water',\n",
    "\n"
   ]
  },
  {
   "cell_type": "code",
   "execution_count": null,
   "id": "811ea441",
   "metadata": {},
   "outputs": [],
   "source": [
    "#save those that begin with 999,333,222\n",
    "df_main = df[df['pager_code'].astype(str).str.match(r'^(999|333|222)')]\n",
    "\n",
    "# Once pager_code has be entered for those without, concate df_main and df_non_entered."
   ]
  },
  {
   "cell_type": "code",
   "execution_count": null,
   "id": "8a7004aa",
   "metadata": {},
   "outputs": [],
   "source": [
    "# identify those pager_codes details need to be entered in for based on details.\n",
    "#See pager code descriptions"
   ]
  },
  {
   "cell_type": "code",
   "execution_count": 36,
   "id": "2410e425",
   "metadata": {},
   "outputs": [
    {
     "data": {
      "text/html": [
       "<div>\n",
       "<style scoped>\n",
       "    .dataframe tbody tr th:only-of-type {\n",
       "        vertical-align: middle;\n",
       "    }\n",
       "\n",
       "    .dataframe tbody tr th {\n",
       "        vertical-align: top;\n",
       "    }\n",
       "\n",
       "    .dataframe thead th {\n",
       "        text-align: right;\n",
       "    }\n",
       "</style>\n",
       "<table border=\"1\" class=\"dataframe\">\n",
       "  <thead>\n",
       "    <tr style=\"text-align: right;\">\n",
       "      <th></th>\n",
       "      <th>shout_details</th>\n",
       "      <th>pager_code</th>\n",
       "    </tr>\n",
       "  </thead>\n",
       "  <tbody>\n",
       "    <tr>\n",
       "      <th>14</th>\n",
       "      <td>Crew were out on training when flagged down by...</td>\n",
       "      <td>On water</td>\n",
       "    </tr>\n",
       "    <tr>\n",
       "      <th>33</th>\n",
       "      <td>Jetski out of fuel, flagged down LLRB whilst w...</td>\n",
       "      <td>Nil</td>\n",
       "    </tr>\n",
       "    <tr>\n",
       "      <th>46</th>\n",
       "      <td>19yr old male casually walking the WHW twisted...</td>\n",
       "      <td>N/A   AB messaged</td>\n",
       "    </tr>\n",
       "    <tr>\n",
       "      <th>53</th>\n",
       "      <td>As above, once location identified it was pass...</td>\n",
       "      <td>N/a</td>\n",
       "    </tr>\n",
       "    <tr>\n",
       "      <th>70</th>\n",
       "      <td>On return from our first shout of the day we w...</td>\n",
       "      <td>Na</td>\n",
       "    </tr>\n",
       "  </tbody>\n",
       "</table>\n",
       "</div>"
      ],
      "text/plain": [
       "                                        shout_details         pager_code\n",
       "14  Crew were out on training when flagged down by...           On water\n",
       "33  Jetski out of fuel, flagged down LLRB whilst w...                Nil\n",
       "46  19yr old male casually walking the WHW twisted...  N/A   AB messaged\n",
       "53  As above, once location identified it was pass...                N/a\n",
       "70  On return from our first shout of the day we w...                 Na"
      ]
     },
     "execution_count": 36,
     "metadata": {},
     "output_type": "execute_result"
    }
   ],
   "source": [
    "df_non.head()\n",
    "feats=['shout_details', 'pager_code']  # Separate the column names by a comma\n",
    "df_non_feats=df_non[feats]\n",
    "df_non_feats.head()"
   ]
  },
  {
   "cell_type": "code",
   "execution_count": null,
   "id": "c37f8755",
   "metadata": {},
   "outputs": [],
   "source": [
    "# save the cleaned data to a new csv file\n",
    "df.to_csv('../data/pager_codes_missing.csv', index=False)"
   ]
  },
  {
   "cell_type": "code",
   "execution_count": null,
   "id": "262d6470",
   "metadata": {},
   "outputs": [],
   "source": []
  }
 ],
 "metadata": {
  "kernelspec": {
   "display_name": "Python 3 (ipykernel)",
   "language": "python",
   "name": "python3"
  },
  "language_info": {
   "codemirror_mode": {
    "name": "ipython",
    "version": 3
   },
   "file_extension": ".py",
   "mimetype": "text/x-python",
   "name": "python",
   "nbconvert_exporter": "python",
   "pygments_lexer": "ipython3",
   "version": "3.10.8"
  }
 },
 "nbformat": 4,
 "nbformat_minor": 5
}
