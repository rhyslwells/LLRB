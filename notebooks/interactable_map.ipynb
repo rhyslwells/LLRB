{
 "cells": [
  {
   "cell_type": "markdown",
   "id": "d457c053",
   "metadata": {},
   "source": [
    "# Overview"
   ]
  },
  {
   "cell_type": "markdown",
   "id": "0df01871",
   "metadata": {},
   "source": [
    "- [ ] Make map interactive with time periods,tags, pager codes."
   ]
  },
  {
   "cell_type": "markdown",
   "id": "eb835a89",
   "metadata": {},
   "source": [
    "# Data"
   ]
  },
  {
   "cell_type": "code",
   "execution_count": null,
   "id": "608c6c6f",
   "metadata": {},
   "outputs": [],
   "source": [
    "# Example\n",
    "\n",
    "# check if any empty values\n",
    "df[\"location_of_shout\"].tolist()\n",
    "# df[\"location_of_shout\"].isnull().sum()\n",
    "simple_loc=[\n",
    " 'Ardlui',\n",
    " 'Duckbay',\n",
    " 'TaRBet',\n",
    " 'Balmaha',\n",
    " 'luss']"
   ]
  },
  {
   "cell_type": "code",
   "execution_count": 1,
   "id": "1f6b8b28",
   "metadata": {},
   "outputs": [],
   "source": [
    "import pandas as pd \n",
    "import re\n",
    "from geopy.geocoders import Nominatim\n",
    "from geopy.extra.rate_limiter import RateLimiter\n",
    "import pandas as pd\n"
   ]
  },
  {
   "cell_type": "code",
   "execution_count": null,
   "id": "c7b1ba2c",
   "metadata": {},
   "outputs": [],
   "source": [
    "#data\n",
    "data = pd.read_csv('companies.csv')\n",
    "print(data.head())"
   ]
  },
  {
   "cell_type": "code",
   "execution_count": null,
   "id": "7ab0c784",
   "metadata": {},
   "outputs": [],
   "source": [
    "\n",
    "# Initialize geocoder\n",
    "geolocator = Nominatim(user_agent=\"my_geocoder\")\n",
    "geocode = RateLimiter(geolocator.geocode, min_delay_seconds=1)\n",
    "\n",
    "# Function to geocode a location\n",
    "def geocode_location(location):\n",
    "    try:\n",
    "        # Attempt to geocode the location\n",
    "        geocoded_location = geocode(f\"{location}, BC, Canada\",timeout = 5)\n",
    "        return geocoded_location.latitude, geocoded_location.longitude\n",
    "    except:\n",
    "        # Return NA values if geocoding fails\n",
    "        return pd.NA, pd.NA\n",
    "\n",
    "# Apply geocoding to each location in the DataFrame\n",
    "expanded_df['coords'] = expanded_df['Location'].apply(geocode_location)\n",
    "expanded_df[['latitude', 'longitude']] = pd.DataFrame(expanded_df['coords'].tolist(), index=expanded_df.index)\n"
   ]
  },
  {
   "cell_type": "code",
   "execution_count": 6,
   "id": "275bbfee",
   "metadata": {},
   "outputs": [],
   "source": [
    "# Group by location and determine number of call outs per year.\n",
    "aggregated_df = expanded_df.groupby('Location').agg({\n",
    "    'min_cost': 'mean',\n",
    "    'max_cost': 'mean',\n",
    "    'latitude': 'first',  # Since all latitudes for the same location should be equal\n",
    "    'longitude': 'first'  # Ditto for longitudes\n",
    "}).reset_index()\n",
    "\n",
    "expanded_df = expanded_df[expanded_df['Location'] != 'Su']\n"
   ]
  },
  {
   "cell_type": "code",
   "execution_count": 7,
   "id": "2623fbdd",
   "metadata": {},
   "outputs": [],
   "source": [
    "# Normalize cost data to range from 0 to 1 for heat map intensity\n",
    "import folium\n",
    "from folium.plugins import HeatMap\n",
    "\n",
    "# Create a map centered around Loch lomond\n",
    "map_center = aggregated_df[['latitude', 'longitude']].dropna().mean().tolist()\n",
    "map = folium.Map(location=map_center, zoom_start=6)\n",
    "\n",
    "# List of points for the heat map: lat, lng, and the weight\n",
    "heat_data = [\n",
    "    (row['latitude'], row['longitude'], row['cost_weight']) \n",
    "    for index, row in aggregated_df.iterrows()\n",
    "    if pd.notna(row['latitude']) and pd.notna(row['longitude'])\n",
    "]\n"
   ]
  },
  {
   "cell_type": "code",
   "execution_count": null,
   "id": "e4e19264",
   "metadata": {},
   "outputs": [],
   "source": [
    "# Add the heat map layer\n",
    "HeatMap(heat_data).add_to(map)"
   ]
  },
  {
   "cell_type": "code",
   "execution_count": null,
   "id": "0ec5489d",
   "metadata": {},
   "outputs": [],
   "source": [
    "# Save to an HTML file\n",
    "map.save('heat_map.html')"
   ]
  },
  {
   "cell_type": "markdown",
   "id": "79b9a86e",
   "metadata": {},
   "source": [
    "# Later\n"
   ]
  },
  {
   "cell_type": "code",
   "execution_count": null,
   "id": "21986f4a",
   "metadata": {},
   "outputs": [],
   "source": [
    "\n",
    "# Assume 'expanded_df' is already loaded and includes latitude and longitude\n",
    "# Calculate the average cost\n",
    "import plotly.graph_objects as go\n",
    "\n",
    "# Create the 3D scatter plot\n",
    "fig = go.Figure(data=[go.Scatter3d(\n",
    "    x=expanded_df['longitude'],\n",
    "    y=expanded_df['latitude'],\n",
    "    z=expanded_df['average_cost'], #TODO pager color?\n",
    "    mode='markers',\n",
    "    marker=dict(\n",
    "        size=10,\n",
    "        color=expanded_df['average_cost'],    # Set color according to average cost\n",
    "        colorscale='Viridis',                 # Color scale for visualization\n",
    "        opacity=0.8\n",
    "    ),\n",
    "    text=expanded_df['Company']              # Hover text\n",
    ")])\n",
    "\n",
    "# Update plot layout\n",
    "fig.update_layout(\n",
    "    title='3D Plot of Companies by Location and Average Cost',\n",
    "    scene=dict(\n",
    "        xaxis_title='Longitude',\n",
    "        yaxis_title='Latitude',\n",
    "        zaxis_title='Average Cost'\n",
    "    ),\n",
    "    margin=dict(l=0, r=0, b=0, t=0)          # Tight layout\n",
    ")\n",
    "\n",
    "# Show the plot\n",
    "fig.show()\n",
    "\n",
    "# Optionally, save the plot to an HTML file\n",
    "fig.write_html('3D_scatter_plot.html')\n",
    "\n",
    "expanded_df.to_csv('processed_companies.csv', index=False)\n",
    "\n"
   ]
  }
 ],
 "metadata": {
  "kernelspec": {
   "display_name": "Python 3 (ipykernel)",
   "language": "python",
   "name": "python3"
  },
  "language_info": {
   "codemirror_mode": {
    "name": "ipython",
    "version": 3
   },
   "file_extension": ".py",
   "mimetype": "text/x-python",
   "name": "python",
   "nbconvert_exporter": "python",
   "pygments_lexer": "ipython3",
   "version": "3.10.8"
  }
 },
 "nbformat": 4,
 "nbformat_minor": 5
}
