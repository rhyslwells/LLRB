{
 "cells": [
  {
   "cell_type": "markdown",
   "id": "d457c053",
   "metadata": {},
   "source": [
    "# Overview"
   ]
  },
  {
   "cell_type": "markdown",
   "id": "0df01871",
   "metadata": {},
   "source": [
    "In this notebook we make map interactive showing locations of incidients. We want this map to be interactable (with java?) to highlight incidents with time periods,shout_tags, pager-codes."
   ]
  },
  {
   "cell_type": "markdown",
   "id": "eb835a89",
   "metadata": {},
   "source": [
    "# Data"
   ]
  },
  {
   "cell_type": "code",
   "execution_count": 28,
   "id": "7ab0c784",
   "metadata": {},
   "outputs": [],
   "source": [
    "import pandas as pd \n",
    "df = pd.read_csv(\"..\\data\\cleaned.csv\")\n",
    "# df.head()"
   ]
  },
  {
   "cell_type": "code",
   "execution_count": 29,
   "id": "275bbfee",
   "metadata": {},
   "outputs": [],
   "source": [
    "df[['latitude', 'longitude']] = df['core_lat_long'].str.split(',', expand=True)\n",
    "df['latitude'] = pd.to_numeric(df['latitude'], errors='coerce')\n",
    "df['longitude'] = pd.to_numeric(df['longitude'], errors='coerce')"
   ]
  },
  {
   "cell_type": "code",
   "execution_count": 30,
   "id": "f9bb51f4",
   "metadata": {},
   "outputs": [
    {
     "data": {
      "text/html": [
       "<div>\n",
       "<style scoped>\n",
       "    .dataframe tbody tr th:only-of-type {\n",
       "        vertical-align: middle;\n",
       "    }\n",
       "\n",
       "    .dataframe tbody tr th {\n",
       "        vertical-align: top;\n",
       "    }\n",
       "\n",
       "    .dataframe thead th {\n",
       "        text-align: right;\n",
       "    }\n",
       "</style>\n",
       "<table border=\"1\" class=\"dataframe\">\n",
       "  <thead>\n",
       "    <tr style=\"text-align: right;\">\n",
       "      <th></th>\n",
       "      <th>latitude</th>\n",
       "      <th>longitude</th>\n",
       "    </tr>\n",
       "  </thead>\n",
       "  <tbody>\n",
       "    <tr>\n",
       "      <th>0</th>\n",
       "      <td>56.090115</td>\n",
       "      <td>-4.617764</td>\n",
       "    </tr>\n",
       "    <tr>\n",
       "      <th>1</th>\n",
       "      <td>56.302002</td>\n",
       "      <td>-4.720782</td>\n",
       "    </tr>\n",
       "    <tr>\n",
       "      <th>2</th>\n",
       "      <td>56.145450</td>\n",
       "      <td>-4.661916</td>\n",
       "    </tr>\n",
       "    <tr>\n",
       "      <th>3</th>\n",
       "      <td>56.016814</td>\n",
       "      <td>-4.611093</td>\n",
       "    </tr>\n",
       "    <tr>\n",
       "      <th>4</th>\n",
       "      <td>56.027043</td>\n",
       "      <td>-4.595379</td>\n",
       "    </tr>\n",
       "  </tbody>\n",
       "</table>\n",
       "</div>"
      ],
      "text/plain": [
       "    latitude  longitude\n",
       "0  56.090115  -4.617764\n",
       "1  56.302002  -4.720782\n",
       "2  56.145450  -4.661916\n",
       "3  56.016814  -4.611093\n",
       "4  56.027043  -4.595379"
      ]
     },
     "execution_count": 30,
     "metadata": {},
     "output_type": "execute_result"
    }
   ],
   "source": [
    "\n",
    "df[['latitude', 'longitude']].head()"
   ]
  },
  {
   "cell_type": "code",
   "execution_count": 31,
   "id": "3823344c",
   "metadata": {},
   "outputs": [],
   "source": [
    "\n",
    "#convert to float\n",
    "df['latitude'] = df['latitude'].astype(float)\n"
   ]
  },
  {
   "cell_type": "code",
   "execution_count": 32,
   "id": "f3520b99",
   "metadata": {},
   "outputs": [],
   "source": [
    "\n",
    "# df['longitude'] = df['longitude'].astype(float)\n",
    "\n"
   ]
  },
  {
   "cell_type": "code",
   "execution_count": 33,
   "id": "dbd91eff",
   "metadata": {},
   "outputs": [
    {
     "data": {
      "text/html": [
       "<div>\n",
       "<style scoped>\n",
       "    .dataframe tbody tr th:only-of-type {\n",
       "        vertical-align: middle;\n",
       "    }\n",
       "\n",
       "    .dataframe tbody tr th {\n",
       "        vertical-align: top;\n",
       "    }\n",
       "\n",
       "    .dataframe thead th {\n",
       "        text-align: right;\n",
       "    }\n",
       "</style>\n",
       "<table border=\"1\" class=\"dataframe\">\n",
       "  <thead>\n",
       "    <tr style=\"text-align: right;\">\n",
       "      <th></th>\n",
       "      <th>core_lat_long</th>\n",
       "      <th>latitude</th>\n",
       "      <th>longitude</th>\n",
       "    </tr>\n",
       "  </thead>\n",
       "  <tbody>\n",
       "    <tr>\n",
       "      <th>0</th>\n",
       "      <td>56.0901146882635, -4.617763927445251</td>\n",
       "      <td>56.090115</td>\n",
       "      <td>-4.617764</td>\n",
       "    </tr>\n",
       "    <tr>\n",
       "      <th>1</th>\n",
       "      <td>56.30200229959834, -4.720781936098027</td>\n",
       "      <td>56.302002</td>\n",
       "      <td>-4.720782</td>\n",
       "    </tr>\n",
       "    <tr>\n",
       "      <th>2</th>\n",
       "      <td>56.14545006003698, -4.661915903592648</td>\n",
       "      <td>56.145450</td>\n",
       "      <td>-4.661916</td>\n",
       "    </tr>\n",
       "    <tr>\n",
       "      <th>3</th>\n",
       "      <td>56.01681400723627, -4.611093212845342</td>\n",
       "      <td>56.016814</td>\n",
       "      <td>-4.611093</td>\n",
       "    </tr>\n",
       "    <tr>\n",
       "      <th>4</th>\n",
       "      <td>56.027043486219625, -4.595378734373894</td>\n",
       "      <td>56.027043</td>\n",
       "      <td>-4.595379</td>\n",
       "    </tr>\n",
       "  </tbody>\n",
       "</table>\n",
       "</div>"
      ],
      "text/plain": [
       "                            core_lat_long   latitude  longitude\n",
       "0    56.0901146882635, -4.617763927445251  56.090115  -4.617764\n",
       "1   56.30200229959834, -4.720781936098027  56.302002  -4.720782\n",
       "2   56.14545006003698, -4.661915903592648  56.145450  -4.661916\n",
       "3   56.01681400723627, -4.611093212845342  56.016814  -4.611093\n",
       "4  56.027043486219625, -4.595378734373894  56.027043  -4.595379"
      ]
     },
     "execution_count": 33,
     "metadata": {},
     "output_type": "execute_result"
    }
   ],
   "source": [
    "\n",
    "#show just these cols\n",
    "\n",
    "feats=[\"core_lat_long\", \"latitude\", \"longitude\"]\n",
    "\n",
    "df[feats].head()"
   ]
  },
  {
   "cell_type": "code",
   "execution_count": 39,
   "id": "a22f5b79",
   "metadata": {},
   "outputs": [],
   "source": [
    "# determine if there are NaN in df[feats].\n",
    "\n",
    "df[feats].isnull().sum()\n",
    "\n",
    "#drop those with nan\n",
    "df = df.dropna(subset=feats)"
   ]
  },
  {
   "cell_type": "code",
   "execution_count": 40,
   "id": "a7a76c48",
   "metadata": {},
   "outputs": [
    {
     "data": {
      "text/plain": [
       "core_lat_long    0\n",
       "latitude         0\n",
       "longitude        0\n",
       "dtype: int64"
      ]
     },
     "execution_count": 40,
     "metadata": {},
     "output_type": "execute_result"
    }
   ],
   "source": [
    "df[feats].isnull().sum()\n"
   ]
  },
  {
   "cell_type": "code",
   "execution_count": 41,
   "id": "2623fbdd",
   "metadata": {},
   "outputs": [],
   "source": [
    "# Normalize cost data to range from 0 to 1 for heat map intensity\n",
    "import folium\n",
    "from folium.plugins import HeatMap\n",
    "\n",
    "# could use aggregated_df to group data by repeated locations\n",
    "\n",
    "# Create a map centered around Loch lomond\n",
    "map_center = df[['latitude', 'longitude']].dropna().mean().tolist()\n",
    "\n",
    "map = folium.Map(location=map_center, zoom_start=6)\n",
    "\n",
    "# List of points for the heat map: lat, lng, and the weight\n",
    "# heat_data = [\n",
    "#     (row['latitude'], row['longitude'], row['pager_code']) \n",
    "#     for index, row in df.iterrows()\n",
    "#     if pd.notna(row['latitude']) and pd.notna(row['longitude'])\n",
    "# ]\n",
    "\n",
    "heat_data = df[['latitude', 'longitude']].values.tolist()\n"
   ]
  },
  {
   "cell_type": "code",
   "execution_count": 42,
   "id": "e4e19264",
   "metadata": {},
   "outputs": [
    {
     "data": {
      "text/plain": [
       "<folium.plugins.heat_map.HeatMap at 0x1e31c375780>"
      ]
     },
     "execution_count": 42,
     "metadata": {},
     "output_type": "execute_result"
    }
   ],
   "source": [
    "# Add the heat map layer\n",
    "HeatMap(heat_data).add_to(map)"
   ]
  },
  {
   "cell_type": "code",
   "execution_count": 43,
   "id": "0ec5489d",
   "metadata": {},
   "outputs": [],
   "source": [
    "# Save to an HTML file\n",
    "map.save('heat_map.html')"
   ]
  },
  {
   "cell_type": "code",
   "execution_count": null,
   "id": "151cfd31",
   "metadata": {},
   "outputs": [],
   "source": []
  },
  {
   "cell_type": "markdown",
   "id": "79b9a86e",
   "metadata": {},
   "source": [
    "# Later\n"
   ]
  },
  {
   "cell_type": "code",
   "execution_count": null,
   "id": "21986f4a",
   "metadata": {},
   "outputs": [],
   "source": [
    "\n",
    "# Assume 'expanded_df' is already loaded and includes latitude and longitude\n",
    "# Calculate the average cost\n",
    "import plotly.graph_objects as go\n",
    "\n",
    "# Create the 3D scatter plot\n",
    "fig = go.Figure(data=[go.Scatter3d(\n",
    "    x=expanded_df['longitude'],\n",
    "    y=expanded_df['latitude'],\n",
    "    z=expanded_df['average_cost'], #TODO pager color?\n",
    "    mode='markers',\n",
    "    marker=dict(\n",
    "        size=10,\n",
    "        color=expanded_df['average_cost'],    # Set color according to average cost\n",
    "        colorscale='Viridis',                 # Color scale for visualization\n",
    "        opacity=0.8\n",
    "    ),\n",
    "    text=expanded_df['Company']              # Hover text\n",
    ")])\n",
    "\n",
    "# Update plot layout\n",
    "fig.update_layout(\n",
    "    title='3D Plot of Companies by Location and Average Cost',\n",
    "    scene=dict(\n",
    "        xaxis_title='Longitude',\n",
    "        yaxis_title='Latitude',\n",
    "        zaxis_title='Average Cost'\n",
    "    ),\n",
    "    margin=dict(l=0, r=0, b=0, t=0)          # Tight layout\n",
    ")\n",
    "\n",
    "# Show the plot\n",
    "fig.show()\n",
    "\n",
    "# Optionally, save the plot to an HTML file\n",
    "fig.write_html('3D_scatter_plot.html')\n",
    "\n",
    "expanded_df.to_csv('processed_companies.csv', index=False)\n",
    "\n"
   ]
  }
 ],
 "metadata": {
  "kernelspec": {
   "display_name": "Python 3 (ipykernel)",
   "language": "python",
   "name": "python3"
  },
  "language_info": {
   "codemirror_mode": {
    "name": "ipython",
    "version": 3
   },
   "file_extension": ".py",
   "mimetype": "text/x-python",
   "name": "python",
   "nbconvert_exporter": "python",
   "pygments_lexer": "ipython3",
   "version": "3.10.8"
  }
 },
 "nbformat": 4,
 "nbformat_minor": 5
}
