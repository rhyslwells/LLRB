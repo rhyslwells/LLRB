{
 "cells": [
  {
   "cell_type": "markdown",
   "id": "2f4550da",
   "metadata": {},
   "source": [
    "# Install/Import Packages"
   ]
  },
  {
   "cell_type": "code",
   "execution_count": null,
   "id": "6b94b813",
   "metadata": {},
   "outputs": [],
   "source": [
    "#!pip install folium\n",
    "#!pip install pandas"
   ]
  },
  {
   "cell_type": "code",
   "execution_count": null,
   "id": "03f2904f",
   "metadata": {},
   "outputs": [],
   "source": [
    "import pandas as pd\n",
    "import folium"
   ]
  },
  {
   "cell_type": "markdown",
   "id": "01ca0180",
   "metadata": {},
   "source": [
    "# Load and View Pandas Dataframe"
   ]
  },
  {
   "cell_type": "code",
   "execution_count": null,
   "id": "4ff0b074",
   "metadata": {},
   "outputs": [],
   "source": [
    "# define file location\n",
    "# file can be downloaded at URL: https://data.cityofchicago.org/Public-Safety/Crimes-2001-to-Present/ijzp-q8t2/about_data\n",
    "input_data = \"D:/Tutorials/data/Crimes_-_2001_to_Present_20231109.csv\""
   ]
  },
  {
   "cell_type": "code",
   "execution_count": null,
   "id": "86869fe7",
   "metadata": {},
   "outputs": [],
   "source": [
    "# create dataframe\n",
    "df = pd.read_csv(input_data)"
   ]
  },
  {
   "cell_type": "code",
   "execution_count": null,
   "id": "0fc2cb00",
   "metadata": {},
   "outputs": [],
   "source": [
    "# preview dataframe\n",
    "#df.head()\n",
    "df.tail()"
   ]
  },
  {
   "cell_type": "markdown",
   "id": "9c77d4fe",
   "metadata": {},
   "source": [
    "# Create a Folium Map - Tutorial 1"
   ]
  },
  {
   "cell_type": "code",
   "execution_count": null,
   "id": "928b68d2",
   "metadata": {},
   "outputs": [],
   "source": [
    "# create map\n",
    "#41.8781° N, 87.6298° W\n",
    "m = folium.Map(location=(41.8781, -87.6298))"
   ]
  },
  {
   "cell_type": "code",
   "execution_count": null,
   "id": "6330459d",
   "metadata": {},
   "outputs": [],
   "source": [
    "# display map\n",
    "m"
   ]
  },
  {
   "cell_type": "markdown",
   "id": "e30c8758",
   "metadata": {},
   "source": [
    "# Add a Single Point - Tutorial 2"
   ]
  },
  {
   "cell_type": "code",
   "execution_count": null,
   "id": "8ed5baa6",
   "metadata": {},
   "outputs": [],
   "source": [
    "# m = folium.Map([45.35, -121.6972], zoom_start=12)\n",
    "\n",
    "# folium.Marker(\n",
    "#     location=[45.3288, -121.6625],\n",
    "#     tooltip=\"Click me!\",\n",
    "#     popup=\"Mt. Hood Meadows\",\n",
    "#     icon=folium.Icon(icon=\"cloud\"),\n",
    "# ).add_to(m)\n",
    "\n",
    "# folium.Marker(\n",
    "#     location=[45.3311, -121.7113],\n",
    "#     tooltip=\"Click me!\",\n",
    "#     popup=\"Timberline Lodge\",\n",
    "#     icon=folium.Icon(color=\"green\"),\n",
    "# ).add_to(m)\n",
    "\n",
    "# m\n",
    "\n",
    "# [lat, long]\n",
    "point1 = [41.772671, -87.698104]\n",
    "\n",
    "folium.Marker(\n",
    "    location = point1,\n",
    "    tooltip=\"Have fun with python folium!\",\n",
    "    popup=\"Add a single point tutorial\",\n",
    "    icon=folium.Icon(color=\"green\"),\n",
    ").add_to(m)\n",
    "\n",
    "m"
   ]
  },
  {
   "cell_type": "markdown",
   "id": "883da777",
   "metadata": {},
   "source": [
    "# Add 5 Points - Tutorial 2"
   ]
  },
  {
   "cell_type": "code",
   "execution_count": null,
   "id": "22e3d36c",
   "metadata": {},
   "outputs": [],
   "source": [
    "# Add all 5 points manually\n",
    "# create map\n",
    "#41.8781° N, 87.6298° W\n",
    "m1 = folium.Map(location=(41.8781, -87.6298))\n",
    "\n",
    "# [lat,long]\n",
    "point1=[41.772671,-87.698104]\n",
    "point2=[41.724546,-87.614211]\n",
    "point3=[41.870921,-87.709461]\n",
    "point4=[41.995927,-87.688929]\n",
    "point5=[41.942112,-87.661459]\n",
    "\n",
    "# add point 1\n",
    "folium.Marker(\n",
    "    location = point1,\n",
    "    tooltip=\"Have fun with python folium!\",\n",
    "    popup=\"Add a single point tutorial\",\n",
    "    icon=folium.Icon(color=\"green\"),\n",
    ").add_to(m1)\n",
    "\n",
    "# add point 2\n",
    "folium.Marker(\n",
    "    location = point2,\n",
    "    tooltip=\"Have fun with python folium!\",\n",
    "    popup=\"Add a single point tutorial\",\n",
    "    icon=folium.Icon(color=\"red\"),\n",
    ").add_to(m1)\n",
    "\n",
    "# add point 3\n",
    "folium.Marker(\n",
    "    location = point3,\n",
    "    tooltip=\"Have fun with python folium!\",\n",
    "    popup=\"Add a single point tutorial\",\n",
    "    icon=folium.Icon(color=\"blue\"),\n",
    ").add_to(m1)\n",
    "\n",
    "# add point 4\n",
    "folium.Marker(\n",
    "    location = point4,\n",
    "    tooltip=\"Have fun with python folium!\",\n",
    "    popup=\"Add a single point tutorial\",\n",
    "    icon=folium.Icon(color=\"pink\"),\n",
    ").add_to(m1)\n",
    "\n",
    "# add point 5\n",
    "folium.Marker(\n",
    "    location = point5,\n",
    "    tooltip=\"Have fun with python folium!\",\n",
    "    popup=\"Add a single point tutorial\",\n",
    "    icon=folium.Icon(color=\"purple\"),\n",
    ").add_to(m1)\n",
    "\n",
    "m1"
   ]
  },
  {
   "cell_type": "code",
   "execution_count": null,
   "id": "16108bf8",
   "metadata": {},
   "outputs": [],
   "source": [
    "# Use a list to add 5 points\n",
    "m2 = folium.Map(location=(41.8781, -87.6298))\n",
    "\n",
    "# Create a new dataframe called df_last5 that contains\n",
    "#the last 5 rows of original dataframe df\n",
    "df_last5 = df.tail()\n",
    "\n",
    "df_last5.head()\n",
    "\n",
    "# python zip function allows us to iterate through multiple lists at the same time\n",
    "# we want to iterate through the latitude and longitude columns at the same time\n",
    "for lat, lng in zip(df_last5.Latitude, df_last5.Longitude):\n",
    "    folium.Marker(\n",
    "        location=[lat,lng],\n",
    "        tooltip=\"Have fun with python folium!\",\n",
    "        popup=\"Add a single point tutorial\",\n",
    "        icon=folium.Icon(color=\"blue\"),\n",
    "    ).add_to(m2)\n",
    "    \n",
    "m2"
   ]
  },
  {
   "cell_type": "markdown",
   "id": "8fbeeb4e",
   "metadata": {},
   "source": [
    "# Add all Points - Tutorial 3"
   ]
  },
  {
   "cell_type": "code",
   "execution_count": null,
   "id": "9daa36f7",
   "metadata": {},
   "outputs": [],
   "source": [
    "# use .info() to check how many points are in the dataset\n",
    "df.info()"
   ]
  },
  {
   "cell_type": "code",
   "execution_count": null,
   "id": "4654d9ab",
   "metadata": {},
   "outputs": [],
   "source": [
    "# Add all points as an individual marker\n",
    "\n",
    "# Step 1: Iterate through initial df using lat/long columns\n",
    "# Use the python zip function for this (see above)\n",
    "\n",
    "m3 = folium.Map(location=(41.8781, -87.6298))\n",
    "\n",
    "for lat, lng in zip(df.Latitude, df.Longitude):\n",
    "    folium.Marker(\n",
    "        location=[lat,lng],\n",
    "        tooltip=\"Have fun with python folium!\",\n",
    "        popup=\"Add a single point tutorial\",\n",
    "        icon=folium.Icon(color=\"blue\"),\n",
    "    ).add_to(m3)\n",
    "    \n",
    "m3"
   ]
  },
  {
   "cell_type": "code",
   "execution_count": null,
   "id": "ea5ec315",
   "metadata": {},
   "outputs": [],
   "source": [
    "# We need to clean the data!!!!!!\n",
    "# To do that, we'll use the pandas dropna function\n",
    "# use the subset parameter to only drop NaN values from a subset of latitude and longitude columns\n",
    "df = df.dropna(axis=0, how='any', subset=['Latitude','Longitude'])"
   ]
  },
  {
   "cell_type": "code",
   "execution_count": null,
   "id": "c394c01e",
   "metadata": {
    "scrolled": false
   },
   "outputs": [],
   "source": [
    "# use df.info() again to see how many records remain after using dropna()\n",
    "df.info()"
   ]
  },
  {
   "cell_type": "code",
   "execution_count": null,
   "id": "034672e7",
   "metadata": {},
   "outputs": [],
   "source": [
    "# try original df first\n",
    "# if it fails, use list indexing to create a smaller dataframe\n",
    "# in this instance, my final result was a dataframe\n",
    "# containing the first 1000 records of the original dataframe\n",
    "\n",
    "df_1000 = df[0:1000]\n",
    "\n",
    "\n",
    "# Other datasets I tried:\n",
    "# df_100000 = df[0:100000]\n",
    "# df_10000 = df[0:10000]\n",
    "\n",
    "# I struggled with memory and performance issues\n",
    "# on my PC\n",
    "# Settled for df[0:1000]"
   ]
  },
  {
   "cell_type": "code",
   "execution_count": null,
   "id": "687f8d84",
   "metadata": {},
   "outputs": [],
   "source": [
    "# use .info() to verify amount of records in the dataframe\n",
    "df_1000.info()"
   ]
  },
  {
   "cell_type": "code",
   "execution_count": null,
   "id": "9e5b44ec",
   "metadata": {},
   "outputs": [],
   "source": [
    "# Create a new map (m3) to display df_1000\n",
    "m3 = folium.Map(location=(41.8781, -87.6298))\n",
    "\n",
    "for lat, lng in zip(df_1000.Latitude, df_1000.Longitude):\n",
    "    folium.Marker(\n",
    "        location=[lat,lng],\n",
    "        tooltip=\"Have fun with python folium!\",\n",
    "        popup=\"Add a single point tutorial\",\n",
    "        icon=folium.Icon(color=\"blue\"),\n",
    "    ).add_to(m3)\n",
    "    \n",
    "m3"
   ]
  },
  {
   "cell_type": "markdown",
   "id": "8e4363cc",
   "metadata": {},
   "source": [
    "# Imporve Performance Using Marker Clusters - Tutorial 4"
   ]
  },
  {
   "cell_type": "code",
   "execution_count": null,
   "id": "011a6eda",
   "metadata": {},
   "outputs": [],
   "source": [
    "# Use the Marker Cluster plugin to make the map more navigable\n",
    "from folium.plugins import MarkerCluster\n",
    "\n",
    "## Sample code from documentation\n",
    "\n",
    "# folium.Marker(\n",
    "#     location=[40.67, -73.94],\n",
    "#     popup=\"Add popup text here.\",\n",
    "#     icon=folium.Icon(color=\"green\", icon=\"ok-sign\"),\n",
    "# ).add_to(marker_cluster)\n",
    "\n",
    "# define m3 variable\n",
    "m3 = folium.Map(location=(41.8781, -87.6298))\n",
    "\n",
    "# create marker_cluster variable\n",
    "marker_cluster = MarkerCluster().add_to(m3)\n",
    "\n",
    "#map locations to marker_cluster\n",
    "for lat, lng in zip(df_1000.Latitude, df_1000.Longitude):\n",
    "    folium.Marker(\n",
    "        location=[lat,lng],\n",
    "        tooltip=\"Have fun with python folium!\",\n",
    "        popup=\"Add a single point tutorial\",\n",
    "        icon=folium.Icon(color=\"blue\"),\n",
    "    ).add_to(marker_cluster)\n",
    "    \n",
    "#display m3    \n",
    "m3"
   ]
  },
  {
   "cell_type": "code",
   "execution_count": null,
   "id": "dc5d0b6b",
   "metadata": {},
   "outputs": [],
   "source": [
    "# Start with df_5000, then scale up to df_10000\n",
    "# Compare performance with marker clusters\n",
    "# vs. performance without marker clusters\n",
    "df_5000 = df[0:5000]"
   ]
  },
  {
   "cell_type": "code",
   "execution_count": null,
   "id": "c3d898d0",
   "metadata": {},
   "outputs": [],
   "source": [
    "m4 = folium.Map(location=(41.8781, -87.6298))\n",
    "\n",
    "marker_cluster = MarkerCluster().add_to(m4)\n",
    "\n",
    "for lat, lng in zip(df_5000.Latitude, df_5000.Longitude):\n",
    "    folium.Marker(\n",
    "        location=[lat,lng],\n",
    "        tooltip=\"Have fun with python folium!\",\n",
    "        popup=\"Add a single point tutorial\",\n",
    "        icon=folium.Icon(color=\"blue\"),\n",
    "    ).add_to(marker_cluster)\n",
    "    \n",
    "m4"
   ]
  },
  {
   "cell_type": "code",
   "execution_count": null,
   "id": "1d5cf064",
   "metadata": {},
   "outputs": [],
   "source": [
    "df_10000 = df[0:10000]"
   ]
  },
  {
   "cell_type": "code",
   "execution_count": null,
   "id": "a5faeac9",
   "metadata": {},
   "outputs": [],
   "source": [
    "m5 = folium.Map(location=(41.8781, -87.6298))\n",
    "\n",
    "marker_cluster = MarkerCluster().add_to(m5)\n",
    "\n",
    "for lat, lng in zip(df_10000.Latitude, df_10000.Longitude):\n",
    "    folium.Marker(\n",
    "        location=[lat,lng],\n",
    "        tooltip=\"Have fun with python folium!\",\n",
    "        popup=\"Add a single point tutorial\",\n",
    "        icon=folium.Icon(color=\"blue\"),\n",
    "    ).add_to(marker_cluster)\n",
    "    \n",
    "m5"
   ]
  },
  {
   "cell_type": "code",
   "execution_count": null,
   "id": "0a9d0569",
   "metadata": {},
   "outputs": [],
   "source": []
  }
 ],
 "metadata": {
  "kernelspec": {
   "display_name": "Python 3 (ipykernel)",
   "language": "python",
   "name": "python3"
  },
  "language_info": {
   "codemirror_mode": {
    "name": "ipython",
    "version": 3
   },
   "file_extension": ".py",
   "mimetype": "text/x-python",
   "name": "python",
   "nbconvert_exporter": "python",
   "pygments_lexer": "ipython3",
   "version": "3.11.5"
  }
 },
 "nbformat": 4,
 "nbformat_minor": 5
}
