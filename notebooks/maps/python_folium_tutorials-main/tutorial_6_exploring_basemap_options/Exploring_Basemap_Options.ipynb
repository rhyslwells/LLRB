{
 "cells": [
  {
   "cell_type": "code",
   "execution_count": null,
   "id": "37b286db",
   "metadata": {},
   "outputs": [],
   "source": [
    "# import packages\n",
    "import folium"
   ]
  },
  {
   "cell_type": "markdown",
   "id": "31ae26fb",
   "metadata": {},
   "source": [
    "# Choose from built-in tileset options"
   ]
  },
  {
   "cell_type": "code",
   "execution_count": null,
   "id": "fc0c8e07",
   "metadata": {},
   "outputs": [],
   "source": [
    "# define map variable\n",
    "# [lat/long] = [41.8781, -87.6298]\n",
    "m = folium.Map(location=(41.8781, -87.6298))\n",
    "\n",
    "m"
   ]
  },
  {
   "cell_type": "code",
   "execution_count": null,
   "id": "53f31058",
   "metadata": {},
   "outputs": [],
   "source": [
    "# Use built-in tilesets, located at:\n",
    "# https://python-visualization.github.io/folium/latest/user_guide/raster_layers/tiles.html\n",
    "m = folium.Map(location=(41.8781, -87.6298),\n",
    "               #tiles=\"Cartodb Positron\",\n",
    "               tiles=\"Cartodb dark_matter\",\n",
    "              )\n",
    "\n",
    "m"
   ]
  },
  {
   "cell_type": "markdown",
   "id": "e55ada00",
   "metadata": {},
   "source": [
    "# Pass a Leaflet URL"
   ]
  },
  {
   "cell_type": "code",
   "execution_count": null,
   "id": "7d7b3298",
   "metadata": {},
   "outputs": [],
   "source": [
    "# Use any Leaflet Provider, located at:\n",
    "# https://leaflet-extras.github.io/leaflet-providers/preview/\n",
    "# Required parameters: tiles, attr\n",
    "# Template is: folium.Map(tiles='https://{s}.tiles.example.com/{z}/{x}/{y}.png', attr='My Data Attribution')\n",
    "m = folium.Map(location=(41.8781, -87.6298),\n",
    "               tiles='https://{s}.tile.opentopomap.org/{z}/{x}/{y}.png',\n",
    "               attr='Map data: &copy; <a href=\"https://www.openstreetmap.org/copyright\">OpenStreetMap</a> contributors, <a href=\"http://viewfinderpanoramas.org\">SRTM</a> | Map style: &copy; <a href=\"https://opentopomap.org\">OpenTopoMap</a> (<a href=\"https://creativecommons.org/licenses/by-sa/3.0/\">CC-BY-SA</a>)',\n",
    "              )\n",
    "\n",
    "m"
   ]
  },
  {
   "cell_type": "code",
   "execution_count": null,
   "id": "9ebc4b54",
   "metadata": {},
   "outputs": [],
   "source": [
    "m = folium.Map(location=(41.8781, -87.6298),\n",
    "               tiles='https://server.arcgisonline.com/ArcGIS/rest/services/World_Imagery/MapServer/tile/{z}/{y}/{x}',\n",
    "               attr='Tiles &copy; Esri &mdash; Source: Esri, i-cubed, USDA, USGS, AEX, GeoEye, Getmapping, Aerogrid, IGN, IGP, UPR-EGP, and the GIS User Community',\n",
    "              )\n",
    "\n",
    "m"
   ]
  },
  {
   "cell_type": "markdown",
   "id": "29e293f7",
   "metadata": {},
   "source": [
    "# Basemaps using xyzservices"
   ]
  },
  {
   "cell_type": "code",
   "execution_count": null,
   "id": "135d9680",
   "metadata": {},
   "outputs": [],
   "source": [
    "# install xyzservices, package instructions located at:\n",
    "# https://github.com/geopandas/xyzservices\n",
    "!pip install xyzservices\n"
   ]
  },
  {
   "cell_type": "code",
   "execution_count": null,
   "id": "2376e4c4",
   "metadata": {},
   "outputs": [],
   "source": [
    "# import xyzservices.providers as xyz\n",
    "import xyzservices.providers as xyz"
   ]
  },
  {
   "cell_type": "code",
   "execution_count": null,
   "id": "01b86aed",
   "metadata": {},
   "outputs": [],
   "source": [
    "# use xyz.keys() to see what is available\n",
    "xyz.keys()"
   ]
  },
  {
   "cell_type": "code",
   "execution_count": null,
   "id": "2f0e67f3",
   "metadata": {},
   "outputs": [],
   "source": [
    "# use xyz.{provider} to see what tiles that providers has available\n",
    "xyz.OpenStreetMap"
   ]
  },
  {
   "cell_type": "code",
   "execution_count": null,
   "id": "e6d1d292",
   "metadata": {
    "scrolled": true
   },
   "outputs": [],
   "source": [
    "# try a provider out\n",
    "# same as calling a URL\n",
    "# Required parameters: tiles, attr\n",
    "m = folium.Map(location=(41.8781, -87.6298),\n",
    "               tiles='https://{s}.tile.openstreetmap.fr/hot/{z}/{x}/{y}.png',\n",
    "               attr='© OpenStreetMap contributors, Tiles style by Humanitarian OpenStreetMap Team hosted by OpenStreetMap France',\n",
    "              )\n",
    "\n",
    "m"
   ]
  },
  {
   "cell_type": "code",
   "execution_count": null,
   "id": "7d1e271b",
   "metadata": {},
   "outputs": [],
   "source": [
    "xyz.keys()"
   ]
  },
  {
   "cell_type": "code",
   "execution_count": null,
   "id": "407333a3",
   "metadata": {},
   "outputs": [],
   "source": [
    "xyz.WaymarkedTrails"
   ]
  },
  {
   "cell_type": "code",
   "execution_count": null,
   "id": "db92aca8",
   "metadata": {},
   "outputs": [],
   "source": [
    "# can be rough around the edges\n",
    "# use xyz.WaymarkedTrails as example\n",
    "\n",
    "# Required parameters: tiles, attr\n",
    "m = folium.Map(location=(41.8781, -87.6298),\n",
    "               tiles='https://tile.waymarkedtrails.org/cycling/{z}/{x}/{y}.png',\n",
    "               attr='Map data: © OpenStreetMap contributors | Map style: © waymarkedtrails.org (CC-BY-SA)',\n",
    "              )\n",
    "\n",
    "m"
   ]
  },
  {
   "cell_type": "markdown",
   "id": "a236a868",
   "metadata": {},
   "source": [
    "# Errors Passing Custom Tileset Without Attribution"
   ]
  },
  {
   "cell_type": "code",
   "execution_count": null,
   "id": "937b8efb",
   "metadata": {},
   "outputs": [],
   "source": [
    "# Required parameters: tiles, attr\n",
    "m = folium.Map(location=(41.8781, -87.6298),\n",
    "               tiles='https://tile.waymarkedtrails.org/cycling/{z}/{x}/{y}.png',\n",
    "               #attr='Map data: © OpenStreetMap contributors | Map style: © waymarkedtrails.org (CC-BY-SA)',\n",
    "              )\n",
    "\n",
    "m"
   ]
  },
  {
   "cell_type": "markdown",
   "id": "aaea20d4",
   "metadata": {},
   "source": [
    "# Tutorial 7 - Grouping and Controlling"
   ]
  },
  {
   "cell_type": "code",
   "execution_count": null,
   "id": "0b2702b6",
   "metadata": {},
   "outputs": [],
   "source": []
  }
 ],
 "metadata": {
  "kernelspec": {
   "display_name": "Python 3 (ipykernel)",
   "language": "python",
   "name": "python3"
  },
  "language_info": {
   "codemirror_mode": {
    "name": "ipython",
    "version": 3
   },
   "file_extension": ".py",
   "mimetype": "text/x-python",
   "name": "python",
   "nbconvert_exporter": "python",
   "pygments_lexer": "ipython3",
   "version": "3.11.5"
  }
 },
 "nbformat": 4,
 "nbformat_minor": 5
}
