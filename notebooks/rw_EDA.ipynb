{
 "cells": [
  {
   "cell_type": "markdown",
   "metadata": {},
   "source": [
    "EDA Questions:\n",
    "in pager_code what does 9992167,9994432 mean?\n",
    "What does 999,333,222,N/a,AIRWAVE nan\n",
    "fill in nan vales\n",
    "\n",
    "Explore misc pager_code and cross reference with details\n",
    "\n",
    "Search rows for incorrectly inputted data"
   ]
  }
 ],
 "metadata": {
  "language_info": {
   "name": "python"
  }
 },
 "nbformat": 4,
 "nbformat_minor": 2
}
