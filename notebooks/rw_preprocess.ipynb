{
 "cells": [
  {
   "cell_type": "markdown",
   "id": "d4a554e2",
   "metadata": {},
   "source": [
    "# Notes"
   ]
  },
  {
   "cell_type": "markdown",
   "id": "b0a355cb",
   "metadata": {},
   "source": [
    "We now clean more involved features.\n",
    "\n",
    "Notes:\n",
    "\n",
    "- Getting precise locations for incidents may be hard, so we may need to use a proxy for incidents in the form of \"what 3 words\" data. \n",
    "- For locations that are general in area, pick a specific spot. Remember that for a search in rescue a spcific location may be difficult to find.\n",
    "\n",
    "In the future can we get memeber to record what 3 words data for incidents. Or ask for person on dispatch to relay the what 3 words information.\n",
    "\n",
    "What do each pager code refer to?"
   ]
  },
  {
   "cell_type": "markdown",
   "id": "79270a92",
   "metadata": {},
   "source": [
    "EDA Questions:\n",
    "in pager_code what does 9992167,9994432 mean?\n",
    "What does 999,333,222,N/a,AIRWAVE nan\n",
    "fill in nan vales\n",
    "\n",
    "Explore misc pager_code and cross reference with details\n",
    "\n",
    "Search rows for incorrectly inputted data"
   ]
  },
  {
   "cell_type": "markdown",
   "id": "7508e52a",
   "metadata": {},
   "source": [
    "# Data"
   ]
  },
  {
   "cell_type": "code",
   "execution_count": 4,
   "id": "1c9399fa",
   "metadata": {},
   "outputs": [],
   "source": [
    "import pandas as pd \n",
    "\n",
    "df = pd.read_csv(\"..\\data\\preprocessed_dates_time_data.csv\")\n",
    "# df.drop(columns=[\"shout_details\"], inplace=True)\n",
    "# df.columns"
   ]
  },
  {
   "cell_type": "code",
   "execution_count": 5,
   "id": "f34ca762",
   "metadata": {},
   "outputs": [
    {
     "data": {
      "text/html": [
       "<div>\n",
       "<style scoped>\n",
       "    .dataframe tbody tr th:only-of-type {\n",
       "        vertical-align: middle;\n",
       "    }\n",
       "\n",
       "    .dataframe tbody tr th {\n",
       "        vertical-align: top;\n",
       "    }\n",
       "\n",
       "    .dataframe thead th {\n",
       "        text-align: right;\n",
       "    }\n",
       "</style>\n",
       "<table border=\"1\" class=\"dataframe\">\n",
       "  <thead>\n",
       "    <tr style=\"text-align: right;\">\n",
       "      <th></th>\n",
       "      <th>pager_code</th>\n",
       "      <th>location_of_shout</th>\n",
       "      <th>shout_details</th>\n",
       "      <th>crew_on_board</th>\n",
       "      <th>crew_on_shore</th>\n",
       "      <th>weather_at_time_of_shout</th>\n",
       "    </tr>\n",
       "  </thead>\n",
       "  <tbody>\n",
       "    <tr>\n",
       "      <th>0</th>\n",
       "      <td>9992167</td>\n",
       "      <td>Inchtavvanch channel</td>\n",
       "      <td>Call on channel 16 saying swimmer in water, in...</td>\n",
       "      <td>RB TR AMCD</td>\n",
       "      <td>GH DON</td>\n",
       "      <td>Lovely</td>\n",
       "    </tr>\n",
       "    <tr>\n",
       "      <th>1</th>\n",
       "      <td>333</td>\n",
       "      <td>Ardlui</td>\n",
       "      <td>17' Fletcher speedboat with 1 male occupant ha...</td>\n",
       "      <td>RB, CG, TR, AB jnr, AMcL</td>\n",
       "      <td>RO, AB snr</td>\n",
       "      <td>Sunny, windy</td>\n",
       "    </tr>\n",
       "    <tr>\n",
       "      <th>2</th>\n",
       "      <td>999</td>\n",
       "      <td>South of Inverbeg</td>\n",
       "      <td>Concern  for missing kayaker that hasnt return...</td>\n",
       "      <td>Rb RO GH</td>\n",
       "      <td>Na</td>\n",
       "      <td>West wind     heavy showers</td>\n",
       "    </tr>\n",
       "    <tr>\n",
       "      <th>3</th>\n",
       "      <td>333</td>\n",
       "      <td>Duckbay</td>\n",
       "      <td>Reports of a small craft adrift out in front o...</td>\n",
       "      <td>DS, AM, AJM</td>\n",
       "      <td>TR, DO</td>\n",
       "      <td>Dry and warm</td>\n",
       "    </tr>\n",
       "    <tr>\n",
       "      <th>4</th>\n",
       "      <td>222</td>\n",
       "      <td>Boturich shore</td>\n",
       "      <td>Crew were paged to a small bayliner with an en...</td>\n",
       "      <td>ABsnr, EMc, JB, CG</td>\n",
       "      <td>RB, AM</td>\n",
       "      <td>Dry, sunny</td>\n",
       "    </tr>\n",
       "  </tbody>\n",
       "</table>\n",
       "</div>"
      ],
      "text/plain": [
       "  pager_code     location_of_shout  \\\n",
       "0    9992167  Inchtavvanch channel   \n",
       "1        333                Ardlui   \n",
       "2        999     South of Inverbeg   \n",
       "3        333               Duckbay   \n",
       "4        222        Boturich shore   \n",
       "\n",
       "                                       shout_details  \\\n",
       "0  Call on channel 16 saying swimmer in water, in...   \n",
       "1  17' Fletcher speedboat with 1 male occupant ha...   \n",
       "2  Concern  for missing kayaker that hasnt return...   \n",
       "3  Reports of a small craft adrift out in front o...   \n",
       "4  Crew were paged to a small bayliner with an en...   \n",
       "\n",
       "              crew_on_board crew_on_shore     weather_at_time_of_shout  \n",
       "0                RB TR AMCD        GH DON                       Lovely  \n",
       "1  RB, CG, TR, AB jnr, AMcL    RO, AB snr                 Sunny, windy  \n",
       "2                  Rb RO GH            Na  West wind     heavy showers  \n",
       "3               DS, AM, AJM        TR, DO                 Dry and warm  \n",
       "4        ABsnr, EMc, JB, CG        RB, AM                   Dry, sunny  "
      ]
     },
     "execution_count": 5,
     "metadata": {},
     "output_type": "execute_result"
    }
   ],
   "source": [
    "features_interest = ['pager_code', 'location_of_shout','shout_details','crew_on_board', 'crew_on_shore', 'weather_at_time_of_shout']\n",
    "df = df[features_interest]\n",
    "df.head()"
   ]
  },
  {
   "cell_type": "markdown",
   "id": "6072be6a",
   "metadata": {},
   "source": [
    "# pager_code"
   ]
  },
  {
   "cell_type": "markdown",
   "id": "8784d532",
   "metadata": {},
   "source": [
    "Given pager_code take first three letters as the code, if there are more than three letters, take the next three letters as subcode.\n"
   ]
  },
  {
   "cell_type": "code",
   "execution_count": 25,
   "id": "38b548ac",
   "metadata": {},
   "outputs": [],
   "source": [
    "df['pager_code'].fillna(\"Na\", inplace=True)"
   ]
  },
  {
   "cell_type": "code",
   "execution_count": 58,
   "id": "4f324d35",
   "metadata": {},
   "outputs": [
    {
     "data": {
      "text/html": [
       "<div>\n",
       "<style scoped>\n",
       "    .dataframe tbody tr th:only-of-type {\n",
       "        vertical-align: middle;\n",
       "    }\n",
       "\n",
       "    .dataframe tbody tr th {\n",
       "        vertical-align: top;\n",
       "    }\n",
       "\n",
       "    .dataframe thead th {\n",
       "        text-align: right;\n",
       "    }\n",
       "</style>\n",
       "<table border=\"1\" class=\"dataframe\">\n",
       "  <thead>\n",
       "    <tr style=\"text-align: right;\">\n",
       "      <th></th>\n",
       "      <th>pager_code</th>\n",
       "      <th>shout_details</th>\n",
       "    </tr>\n",
       "  </thead>\n",
       "  <tbody>\n",
       "    <tr>\n",
       "      <th>1</th>\n",
       "      <td>333</td>\n",
       "      <td>17' Fletcher speedboat with 1 male occupant had suffered mechanical failure and was drifting just south of Ardlui. The boat and occupant were put on a long tow and taken back to their berth at Rowardennan</td>\n",
       "    </tr>\n",
       "    <tr>\n",
       "      <th>3</th>\n",
       "      <td>333</td>\n",
       "      <td>Reports of a small craft adrift out in front of Duckbay. After a quick search the small tender was located on the shore line. Small craft was found to be damaged and was removed from the water.</td>\n",
       "    </tr>\n",
       "    <tr>\n",
       "      <th>5</th>\n",
       "      <td>333</td>\n",
       "      <td>Report of a vessel drifted from beach with no persons onboard. Caller informed Police Scotland that he was on the beach and required assistance to retrieve the vessel. LLRB launched to support, once on scene  crew quickly located the caller who advised local campers were able to assist retrieve his vessel, all being well LLRB stood down and returned to base.</td>\n",
       "    </tr>\n",
       "    <tr>\n",
       "      <th>6</th>\n",
       "      <td>333</td>\n",
       "      <td>Cuddy drifted ashore onto Boturich shore line with 4 on board, boat taken back to duncan mills</td>\n",
       "    </tr>\n",
       "    <tr>\n",
       "      <th>7</th>\n",
       "      <td>333</td>\n",
       "      <td>LLRB paged to assist male who had kayaked across the Loch from the A82 side but was now stranded on the west highland way after suffering damage to his inflatable , male &amp; his kayak were taken to Luss pier to meet his family and return home , LLRB stood down returning to base at 00:48</td>\n",
       "    </tr>\n",
       "  </tbody>\n",
       "</table>\n",
       "</div>"
      ],
      "text/plain": [
       "  pager_code  \\\n",
       "1        333   \n",
       "3        333   \n",
       "5        333   \n",
       "6        333   \n",
       "7        333   \n",
       "\n",
       "                                                                                                                                                                                                                                                                                                                                                              shout_details  \n",
       "1                                                                                                                                                              17' Fletcher speedboat with 1 male occupant had suffered mechanical failure and was drifting just south of Ardlui. The boat and occupant were put on a long tow and taken back to their berth at Rowardennan  \n",
       "3                                                                                                                                                                         Reports of a small craft adrift out in front of Duckbay. After a quick search the small tender was located on the shore line. Small craft was found to be damaged and was removed from the water.  \n",
       "5  Report of a vessel drifted from beach with no persons onboard. Caller informed Police Scotland that he was on the beach and required assistance to retrieve the vessel. LLRB launched to support, once on scene  crew quickly located the caller who advised local campers were able to assist retrieve his vessel, all being well LLRB stood down and returned to base.  \n",
       "6                                                                                                                                                                                                                                                                            Cuddy drifted ashore onto Boturich shore line with 4 on board, boat taken back to duncan mills  \n",
       "7                                                                             LLRB paged to assist male who had kayaked across the Loch from the A82 side but was now stranded on the west highland way after suffering damage to his inflatable , male & his kayak were taken to Luss pier to meet his family and return home , LLRB stood down returning to base at 00:48  "
      ]
     },
     "execution_count": 58,
     "metadata": {},
     "output_type": "execute_result"
    }
   ],
   "source": [
    "# Filter the DataFrame to get rows where 'pager_code' \n",
    "value=\"333\"\n",
    "\n",
    "filtered_df = df[df['pager_code'] == value]\n",
    "\n",
    "#show full length of shout details\n",
    "pd.set_option('display.max_colwidth', None)\n",
    "filtered_df[['pager_code', 'shout_details']].head()"
   ]
  },
  {
   "cell_type": "markdown",
   "id": "7e65a4b9",
   "metadata": {},
   "source": [
    "Identify all rows that begin with 999,333,222 and have a subcode. Extract subcode and put into subcode."
   ]
  },
  {
   "cell_type": "code",
   "execution_count": 27,
   "id": "8d595be2",
   "metadata": {},
   "outputs": [],
   "source": [
    "#First put all subcodes as None\n",
    "df['subcode']=None\n",
    "\n",
    "#First: Identify all rows that are of form 999,333,222 only. \n",
    "\n",
    "# Identify all rows that are of form 999,333,222 only. For the subcode put None.\n",
    "df_pager_main_only = df['pager_code'].apply(lambda x: x if x in ['999','333','222'] else None)\n",
    "# df_pager_main_only.value_counts()\n",
    "\n",
    "#Now get subcodes for the rest of the rows\n",
    "\n",
    "df['subcode'] = df['pager_code'].apply(lambda x: str(x)[3:] if x not in df_pager_main_only else None)"
   ]
  },
  {
   "cell_type": "markdown",
   "id": "48bc8601",
   "metadata": {},
   "source": [
    "Extract rows that do not start with a pager code of the form 999,333,222."
   ]
  },
  {
   "cell_type": "code",
   "execution_count": 28,
   "id": "65326728",
   "metadata": {},
   "outputs": [
    {
     "name": "stdout",
     "output_type": "stream",
     "text": [
      "(69, 7)\n"
     ]
    },
    {
     "data": {
      "text/plain": [
       "pager_code\n",
       "Na                                     50\n",
       "other / already out                     5\n",
       "On water                                2\n",
       "AIRWAVE                                 2\n",
       "Na on water                             2\n",
       "Nil                                     1\n",
       "N/A   AB messaged                       1\n",
       "N/a                                     1\n",
       "3032                                    1\n",
       "Na already on water at safety event     1\n",
       "11:30                                   1\n",
       "Na already out                          1\n",
       "Na just returned from previous          1\n",
       "Name: count, dtype: int64"
      ]
     },
     "execution_count": 28,
     "metadata": {},
     "output_type": "execute_result"
    }
   ],
   "source": [
    "#Identify all rows that do not start with:  999,333,222.\n",
    "\n",
    "df_non = df[~df['pager_code'].astype(str).str.match(r'^(999|333|222)')]\n",
    "# print(df_non.shape) #69\n",
    "df_non['pager_code'].value_counts()"
   ]
  },
  {
   "cell_type": "code",
   "execution_count": null,
   "id": "811ea441",
   "metadata": {},
   "outputs": [],
   "source": [
    "#save those that begin with 999,333,222\n",
    "df_main = df[df['pager_code'].astype(str).str.match(r'^(999|333|222)')]\n",
    "\n",
    "# Once pager_code has be entered for those without (df_non), concate df_main and created df_non_entered.\n",
    "# identify those pager_codes that need to be entered in for based on shout_details.\n",
    "#See pager code descriptions\n",
    "\n",
    "# save df_non to csv\n",
    "# df_non.to_csv('../data/pager_codes_missing.csv', index=False)"
   ]
  },
  {
   "cell_type": "markdown",
   "id": "d6b77423",
   "metadata": {},
   "source": [
    "# 'crew_on_board' and 'crew_on_shore'"
   ]
  },
  {
   "cell_type": "code",
   "execution_count": null,
   "id": "879d8a22",
   "metadata": {},
   "outputs": [],
   "source": [
    "1. Ronnie Britton - Coxswain \n",
    "2. Rennie Oliver - Deputy Coxswain \n",
    "3. Iain Gollan (Goz) - Deputy Coxswain \n",
    "4. Ally McLeod - Deputy Coxswain \n",
    "5. Andy Biddulph Snr - Deputy Coxswain & Safety Advisor \n",
    "6. Andy Biddulph Jnr  - Crew \n",
    "7. Gemma Dorran - Crew \n",
    "8. Phils Brooks-Taylor - Crew \n",
    "9. David O'Neil - Crew & Medical Trainer/Advisor \n",
    "10. Craig Clancy - Crew & Social Media \n",
    "11. Gerry Heaney - Crew \n",
    "12. Angus John MacDonald - Crew \n",
    "13. Callum MacKenzie Stevens - Crew & Website holder \n",
    "14. David Stuart - Crew \n",
    "15. Thomas Rogers - Crew \n",
    "16. Euan MciIwraith - Crew \n",
    "17. Paul Dorrian - Crew \n",
    "18. Kevin McPartland - Crew \n",
    "19. Jenna Biddulph - Crew\n",
    "20. Vicki Murphy - Crew \n",
    "1. John Mason -  \n",
    "2. Andy Connell -\n",
    "3. Franny Nicol -\n",
    "4. Frank Rogers - \n",
    "5. Christine Allan - \n",
    "6. Clinton Salter- "
   ]
  },
  {
   "cell_type": "code",
   "execution_count": null,
   "id": "580dd37e",
   "metadata": {},
   "outputs": [],
   "source": [
    "- Ronnie Britton\n",
    "- Rennie Oliver\n",
    "- Iain Gollan (Goz)\n",
    "- Ally McLeod\n",
    "- Andy Biddulph Snr\n",
    "- Andy Biddulph Jnr\n",
    "- Gemma Dorran\n",
    "- Phils Brooks-Taylor\n",
    "- David O'Neil\n",
    "- Craig Clancy\n",
    "- Gerry Heaney\n",
    "- Angus John MacDonald\n",
    "- Callum MacKenzie Stevens\n",
    "- David Stuart\n",
    "- Thomas Rogers\n",
    "- Euan MciIwraith\n",
    "- Paul Dorrian\n",
    "- Kevin McPartland\n",
    "- Jenna Biddulph\n",
    "- Vicki Murphy\n",
    "- John Mason\n",
    "- Andy Connell\n",
    "- Franny Nicol\n",
    "- Frank Rogers\n",
    "- Christine Allan\n",
    "- Clinton Salter\n"
   ]
  },
  {
   "cell_type": "code",
   "execution_count": null,
   "id": "e7bba1a9",
   "metadata": {},
   "outputs": [],
   "source": [
    "{\n",
    "    \"RB\": \"Ronnie Britton\",\n",
    "    \"RO\": \"Rennie Oliver\",\n",
    "    \"IG\": \"Iain Gollan (Goz)\",\n",
    "    \"AM\": \"Ally McLeod\",\n",
    "    \"ABS\": \"Andy Biddulph Snr\",\n",
    "    \"ABJ\": \"Andy Biddulph Jnr\",\n",
    "    \"GD\": \"Gemma Dorran\",\n",
    "    \"PBT\": \"Phils Brooks-Taylor\",\n",
    "    \"DON\": \"David O'Neil\",\n",
    "    \"CC\": \"Craig Clancy\",\n",
    "    \"GH\": \"Gerry Heaney\",\n",
    "    \"AJM\": \"Angus John MacDonald\",\n",
    "    \"CMS\": \"Callum MacKenzie Stevens\",\n",
    "    \"DS\": \"David Stuart\",\n",
    "    \"TR\": \"Thomas Rogers\",\n",
    "    \"EM\": \"Euan MciIwraith\",\n",
    "    \"PD\": \"Paul Dorrian\",\n",
    "    \"KM\": \"Kevin McPartland\",\n",
    "    \"JB\": \"Jenna Biddulph\",\n",
    "    \"VM\": \"Vicki Murphy\",\n",
    "    \"JM\": \"John Mason\",\n",
    "    \"AC\": \"Andy Connell\",\n",
    "    \"FN\": \"Franny Nicol\",\n",
    "    \"FR\": \"Frank Rogers\",\n",
    "    \"CA\": \"Christine Allan\",\n",
    "    \"CS\": \"Clinton Salter\"\n",
    "    \"JT\": \"James Thomson\",\n",
    "    \"TAM\":\"Tam (Cox)\",\n",
    "    \"GERARD\",\"Gerard\",\n",
    "    \"DAVY\",\"Davy\",\n",
    "    \"LEE\",\"Lee\",\n",
    "}"
   ]
  },
  {
   "cell_type": "markdown",
   "id": "d80643d7",
   "metadata": {},
   "source": [
    "instagram metrics:\n",
    "10. Craig Clancy - Crew & Social Media \n"
   ]
  },
  {
   "cell_type": "code",
   "execution_count": null,
   "id": "c15342e6",
   "metadata": {},
   "outputs": [],
   "source": [
    "manually handled weather codes.\n",
    "\n",
    "\"data\\codes_preprocessed_dates_time_data.csv\""
   ]
  },
  {
   "cell_type": "markdown",
   "id": "60734305",
   "metadata": {},
   "source": [
    "Remember to convert weather, details and location to lower case.\n",
    "\n",
    "Enure crew spaces are removed\n",
    "\n"
   ]
  },
  {
   "cell_type": "code",
   "execution_count": null,
   "id": "dd2d14ff",
   "metadata": {},
   "outputs": [],
   "source": []
  },
  {
   "cell_type": "code",
   "execution_count": null,
   "id": "40b70123",
   "metadata": {},
   "outputs": [],
   "source": []
  },
  {
   "cell_type": "code",
   "execution_count": null,
   "id": "741efa49",
   "metadata": {},
   "outputs": [
    {
     "data": {
      "text/plain": [
       "location_of_shout                           \n",
       "Boturich Shore                                  4\n",
       "River Leven                                     4\n",
       "Inchmoan island                                 3\n",
       "Duckbay                                         2\n",
       "Boturich shoreline                              2\n",
       "                                               ..\n",
       "ISLANDS                                         1\n",
       "INCHMURRIN                                      1\n",
       "Half mile south of Inversnaid                   1\n",
       "Front of Inchmurrin                             1\n",
       "West side of Loch by Loch Lomond Golf Course    1\n",
       "Name: count, Length: 166, dtype: int64"
      ]
     },
     "metadata": {},
     "output_type": "display_data"
    }
   ],
   "source": []
  },
  {
   "cell_type": "code",
   "execution_count": null,
   "id": "9b26b38f",
   "metadata": {},
   "outputs": [],
   "source": [
    "import pandas as pd \n",
    "\n",
    "df = pd.read_csv(\"..\\data\\codes_preprocessed_dates_time_data.csv\")\n",
    "# df.drop(columns=[\"shout_details\"], inplace=True)\n",
    "# df.columns"
   ]
  },
  {
   "cell_type": "code",
   "execution_count": null,
   "id": "64fd7bf8",
   "metadata": {},
   "outputs": [],
   "source": [
    "#Turn values into comma separated values.\n",
    "# Keep as Initials for now."
   ]
  },
  {
   "cell_type": "code",
   "execution_count": null,
   "id": "0c38da8c",
   "metadata": {},
   "outputs": [],
   "source": [
    "df['crew_on_board'].fillna(\"Na\", inplace=True)\n",
    "df['crew_on_shore'].fillna(\"Na\", inplace=True)"
   ]
  },
  {
   "cell_type": "code",
   "execution_count": 65,
   "id": "451ac435",
   "metadata": {},
   "outputs": [],
   "source": [
    "feats=['crew_on_board', 'crew_on_shore']\n",
    "df[feats].head()\n",
    "df_crew=df[feats]"
   ]
  },
  {
   "cell_type": "code",
   "execution_count": 66,
   "id": "01b96611",
   "metadata": {},
   "outputs": [
    {
     "data": {
      "text/plain": [
       "crew_on_board                  crew_on_shore\n",
       "JT TR                          Na               3\n",
       "Gerry , Ronnie , Angus , euan  David  Oneill    2\n",
       "David , Angus , Alistair       Na               2\n",
       "Ronnie , David , Angus         Na               2\n",
       "RB, ABsnr, Don, JB, EM, GD     Na               2\n",
       "                                               ..\n",
       "DS, am, Gh, ab snr             Tr               1\n",
       "DS,CG,GH,ABjnr                 Na               1\n",
       "DS,RO                          Na               1\n",
       "David , Gerry , David Stuart   Nil              1\n",
       "ab jnr amac IG Amcd JT         AB SNR FR RB     1\n",
       "Name: count, Length: 168, dtype: int64"
      ]
     },
     "execution_count": 66,
     "metadata": {},
     "output_type": "execute_result"
    }
   ],
   "source": [
    "df_crew.value_counts()"
   ]
  },
  {
   "cell_type": "code",
   "execution_count": null,
   "id": "40a5a950",
   "metadata": {},
   "outputs": [],
   "source": []
  },
  {
   "cell_type": "markdown",
   "id": "39d9c50a",
   "metadata": {},
   "source": [
    "# location"
   ]
  },
  {
   "cell_type": "code",
   "execution_count": null,
   "id": "bb299a44",
   "metadata": {},
   "outputs": [],
   "source": [
    "import pandas as pd \n",
    "\n",
    "df = pd.read_csv(\"..\\data\\codes_preprocessed_dates_time_data.csv\")\n",
    "# df.drop(columns=[\"shout_details\"], inplace=True)\n",
    "# df.columns"
   ]
  },
  {
   "cell_type": "code",
   "execution_count": null,
   "id": "106e27c2",
   "metadata": {},
   "outputs": [],
   "source": [
    "df.fillna({\"location_of_shout\": \"Na\"}, inplace=True)"
   ]
  },
  {
   "cell_type": "code",
   "execution_count": null,
   "id": "8b8b64e3",
   "metadata": {},
   "outputs": [],
   "source": [
    "feats=['location_of_shout']\n",
    "df_loc=df[feats]"
   ]
  },
  {
   "cell_type": "code",
   "execution_count": null,
   "id": "65250d11",
   "metadata": {},
   "outputs": [
    {
     "data": {
      "text/plain": [
       "location_of_shout                           \n",
       "Boturich Shore                                  4\n",
       "River Leven                                     4\n",
       "Inchmoan island                                 3\n",
       "Duckbay                                         2\n",
       "Boturich shoreline                              2\n",
       "                                               ..\n",
       "ISLANDS                                         1\n",
       "INCHMURRIN                                      1\n",
       "Half mile south of Inversnaid                   1\n",
       "Front of Inchmurrin                             1\n",
       "West side of Loch by Loch Lomond Golf Course    1\n",
       "Name: count, Length: 166, dtype: int64"
      ]
     },
     "metadata": {},
     "output_type": "display_data"
    }
   ],
   "source": [
    "df_loc.value_counts()"
   ]
  }
 ],
 "metadata": {
  "kernelspec": {
   "display_name": "Python 3 (ipykernel)",
   "language": "python",
   "name": "python3"
  },
  "language_info": {
   "codemirror_mode": {
    "name": "ipython",
    "version": 3
   },
   "file_extension": ".py",
   "mimetype": "text/x-python",
   "name": "python",
   "nbconvert_exporter": "python",
   "pygments_lexer": "ipython3",
   "version": "3.10.8"
  }
 },
 "nbformat": 4,
 "nbformat_minor": 5
}
