{
 "cells": [
  {
   "cell_type": "markdown",
   "id": "d4a554e2",
   "metadata": {},
   "source": [
    "# Overview"
   ]
  },
  {
   "cell_type": "markdown",
   "id": "b0a355cb",
   "metadata": {},
   "source": [
    "We now clean more involved features. Due to the data set being relatively small we are able to manually preprerocess given features. We start with 'data/preprocessed_dates_time_data.csv' and work to obtain \"data\\cleaned.csv\". In particular we preprocess:\n",
    "\n",
    "- location\n",
    "- details and tags\n",
    "- crew\n",
    "- pager code"
   ]
  },
  {
   "cell_type": "markdown",
   "id": "7508e52a",
   "metadata": {},
   "source": [
    "# Data"
   ]
  },
  {
   "cell_type": "code",
   "execution_count": 67,
   "id": "6fd17187",
   "metadata": {},
   "outputs": [],
   "source": [
    "import pandas as pd "
   ]
  },
  {
   "cell_type": "code",
   "execution_count": 68,
   "id": "099696c3",
   "metadata": {},
   "outputs": [],
   "source": [
    "df = pd.read_csv(\"..\\data\\cleaned.csv\")\n",
    "# df.head()"
   ]
  },
  {
   "cell_type": "code",
   "execution_count": 69,
   "id": "64e5fb9e",
   "metadata": {},
   "outputs": [
    {
     "data": {
      "text/html": [
       "<div>\n",
       "<style scoped>\n",
       "    .dataframe tbody tr th:only-of-type {\n",
       "        vertical-align: middle;\n",
       "    }\n",
       "\n",
       "    .dataframe tbody tr th {\n",
       "        vertical-align: top;\n",
       "    }\n",
       "\n",
       "    .dataframe thead th {\n",
       "        text-align: right;\n",
       "    }\n",
       "</style>\n",
       "<table border=\"1\" class=\"dataframe\">\n",
       "  <thead>\n",
       "    <tr style=\"text-align: right;\">\n",
       "      <th></th>\n",
       "      <th>pager_code</th>\n",
       "      <th>shout_details</th>\n",
       "    </tr>\n",
       "  </thead>\n",
       "  <tbody>\n",
       "    <tr>\n",
       "      <th>1</th>\n",
       "      <td>333</td>\n",
       "      <td>17' Fletcher speedboat with 1 male occupant had suffered mechanical failure and was drifting just south of Ardlui. The boat and occupant were put on a long tow and taken back to their berth at ROwardenNone</td>\n",
       "    </tr>\n",
       "    <tr>\n",
       "      <th>3</th>\n",
       "      <td>333</td>\n",
       "      <td>Reports of a small craft adrift out in fROnt of Duckbay. After a quick search the small tender was located on the shore line. Small craft was found to be damaged and was removed fROm the water.</td>\n",
       "    </tr>\n",
       "    <tr>\n",
       "      <th>5</th>\n",
       "      <td>333</td>\n",
       "      <td>Report of a vessel drifted fROm beach with no persons onboard. Caller informed Police Scotland that he was on the beach and required assistance to retrieve the vessel. LLRB launched to support, once on scene  crew quickly located the caller who advised local campers were able to assist retrieve his vessel, all being well LLRB stood down and returned to base.</td>\n",
       "    </tr>\n",
       "  </tbody>\n",
       "</table>\n",
       "</div>"
      ],
      "text/plain": [
       "  pager_code  \\\n",
       "1        333   \n",
       "3        333   \n",
       "5        333   \n",
       "\n",
       "                                                                                                                                                                                                                                                                                                                                                              shout_details  \n",
       "1                                                                                                                                                             17' Fletcher speedboat with 1 male occupant had suffered mechanical failure and was drifting just south of Ardlui. The boat and occupant were put on a long tow and taken back to their berth at ROwardenNone  \n",
       "3                                                                                                                                                                         Reports of a small craft adrift out in fROnt of Duckbay. After a quick search the small tender was located on the shore line. Small craft was found to be damaged and was removed fROm the water.  \n",
       "5  Report of a vessel drifted fROm beach with no persons onboard. Caller informed Police Scotland that he was on the beach and required assistance to retrieve the vessel. LLRB launched to support, once on scene  crew quickly located the caller who advised local campers were able to assist retrieve his vessel, all being well LLRB stood down and returned to base.  "
      ]
     },
     "execution_count": 69,
     "metadata": {},
     "output_type": "execute_result"
    }
   ],
   "source": [
    "# Filter the DataFrame to get rows where 'pager_code' \n",
    "value=\"333\"\n",
    "filtered_df = df[df['pager_code'] == value]\n",
    "pd.set_option('display.max_colwidth', None)\n",
    "filtered_df[['pager_code', 'shout_details']].head(3)"
   ]
  },
  {
   "cell_type": "markdown",
   "id": "78de1ca6",
   "metadata": {},
   "source": [
    "# Location"
   ]
  },
  {
   "cell_type": "markdown",
   "id": "744f688b",
   "metadata": {},
   "source": [
    "Based on misspellings of locations and vague descriptions (e.g., \"south of Ardlui\") we make restrict to simpley \"Ardlui\" for now. We manually input the longitude and latitude coordinates using google maps (DD format). We input the coordinates of the location (Ardlui) using Google Maps and record the core latitude and longitude (core_lat_long). It's important to note that the specific location may not be precise during search operations."
   ]
  },
  {
   "cell_type": "markdown",
   "id": "645e0c68",
   "metadata": {},
   "source": [
    "## Automation of position (later)"
   ]
  },
  {
   "cell_type": "markdown",
   "id": "f8f6e729",
   "metadata": {},
   "source": [
    "The following is an idea for automation for entries with a easy to google location (most times however the location is imprecise)."
   ]
  },
  {
   "cell_type": "markdown",
   "id": "0eee6d6f",
   "metadata": {},
   "source": [
    "To-do:\n",
    "\n",
    "    -[ ] Utilize geopy to obtain the coordinates of the location based on the shout's location (so we can automate the process).\n",
    "    -[ ] Implement functionality to accept What3Words coordinates.\n"
   ]
  },
  {
   "cell_type": "markdown",
   "id": "d866d34d",
   "metadata": {},
   "source": [
    "Provide a function (using geopy) that takes a location and provides core_lat_long value.\n",
    "\n",
    "https://geopy.readthedocs.io/en/stable/index.html?highlight=what%20three%20words#geopy.geocoders.What3WordsV3.geocode"
   ]
  },
  {
   "cell_type": "code",
   "execution_count": 29,
   "id": "0f93e32d",
   "metadata": {},
   "outputs": [],
   "source": [
    "from geopy.geocoders import Nominatim\n",
    "from geopy.extra.rate_limiter import RateLimiter"
   ]
  },
  {
   "cell_type": "code",
   "execution_count": 35,
   "id": "5b93e491",
   "metadata": {},
   "outputs": [],
   "source": [
    "simple_loc=[\n",
    " 'Ardlui',\n",
    " 'Duckbay']\n",
    "# for df take only rows with location values in simple_loc\n",
    "filtered_df = df[df['location_of_shout'].str.contains('|'.join(simple_loc), case=False, na=False)]\n",
    "filtered_df.head()\n",
    "df=filtered_df"
   ]
  },
  {
   "cell_type": "code",
   "execution_count": 37,
   "id": "cfe06b73",
   "metadata": {},
   "outputs": [],
   "source": [
    "# Initialize geocoder\n",
    "geolocator = Nominatim(user_agent=\"my_geocoder\")\n",
    "geocode = RateLimiter(geolocator.geocode, min_delay_seconds=1)\n",
    "\n",
    "# Function to geocode a location\n",
    "def geocode_location(location):\n",
    "    try:\n",
    "        # Attempt to geocode the location\n",
    "        geocoded_location = geocode(f\"{location}, Scotland\",timeout = 5)\n",
    "        return geocoded_location.latitude, geocoded_location.longitude\n",
    "    except:\n",
    "        # Return NA values if geocoding fails\n",
    "        return pd.NA, pd.NA"
   ]
  },
  {
   "cell_type": "code",
   "execution_count": 38,
   "id": "3402cee1",
   "metadata": {},
   "outputs": [
    {
     "name": "stderr",
     "output_type": "stream",
     "text": [
      "C:\\Users\\RhysL\\AppData\\Local\\Temp\\ipykernel_23632\\3698374974.py:2: SettingWithCopyWarning: \n",
      "A value is trying to be set on a copy of a slice from a DataFrame.\n",
      "Try using .loc[row_indexer,col_indexer] = value instead\n",
      "\n",
      "See the caveats in the documentation: https://pandas.pydata.org/pandas-docs/stable/user_guide/indexing.html#returning-a-view-versus-a-copy\n",
      "  df['coords'] = df['location_of_shout'].apply(geocode_location)\n",
      "C:\\Users\\RhysL\\AppData\\Local\\Temp\\ipykernel_23632\\3698374974.py:3: SettingWithCopyWarning: \n",
      "A value is trying to be set on a copy of a slice from a DataFrame.\n",
      "Try using .loc[row_indexer,col_indexer] = value instead\n",
      "\n",
      "See the caveats in the documentation: https://pandas.pydata.org/pandas-docs/stable/user_guide/indexing.html#returning-a-view-versus-a-copy\n",
      "  df[['latitude', 'longitude']] = pd.DataFrame(df['coords'].tolist(), index=df.index)\n",
      "C:\\Users\\RhysL\\AppData\\Local\\Temp\\ipykernel_23632\\3698374974.py:3: SettingWithCopyWarning: \n",
      "A value is trying to be set on a copy of a slice from a DataFrame.\n",
      "Try using .loc[row_indexer,col_indexer] = value instead\n",
      "\n",
      "See the caveats in the documentation: https://pandas.pydata.org/pandas-docs/stable/user_guide/indexing.html#returning-a-view-versus-a-copy\n",
      "  df[['latitude', 'longitude']] = pd.DataFrame(df['coords'].tolist(), index=df.index)\n"
     ]
    }
   ],
   "source": [
    "# Apply geocoding to each location in the DataFrame\n",
    "df['coords'] = df['location_of_shout'].apply(geocode_location)\n",
    "df[['latitude', 'longitude']] = pd.DataFrame(df['coords'].tolist(), index=df.index)\n",
    "df.head()"
   ]
  },
  {
   "cell_type": "code",
   "execution_count": 41,
   "id": "5a88faca",
   "metadata": {},
   "outputs": [
    {
     "data": {
      "text/html": [
       "<div>\n",
       "<style scoped>\n",
       "    .dataframe tbody tr th:only-of-type {\n",
       "        vertical-align: middle;\n",
       "    }\n",
       "\n",
       "    .dataframe tbody tr th {\n",
       "        vertical-align: top;\n",
       "    }\n",
       "\n",
       "    .dataframe thead th {\n",
       "        text-align: right;\n",
       "    }\n",
       "</style>\n",
       "<table border=\"1\" class=\"dataframe\">\n",
       "  <thead>\n",
       "    <tr style=\"text-align: right;\">\n",
       "      <th></th>\n",
       "      <th>location_of_shout</th>\n",
       "      <th>latitude</th>\n",
       "      <th>longitude</th>\n",
       "    </tr>\n",
       "  </thead>\n",
       "  <tbody>\n",
       "    <tr>\n",
       "      <th>0</th>\n",
       "      <td>Ardlui marina.</td>\n",
       "      <td>None</td>\n",
       "      <td>None</td>\n",
       "    </tr>\n",
       "    <tr>\n",
       "      <th>1</th>\n",
       "      <td>Ardlui</td>\n",
       "      <td>56.301844</td>\n",
       "      <td>-4.721605</td>\n",
       "    </tr>\n",
       "    <tr>\n",
       "      <th>2</th>\n",
       "      <td>Ardlui marina</td>\n",
       "      <td>None</td>\n",
       "      <td>None</td>\n",
       "    </tr>\n",
       "    <tr>\n",
       "      <th>3</th>\n",
       "      <td>Between Inchmurrin and Duckbay marina</td>\n",
       "      <td>None</td>\n",
       "      <td>None</td>\n",
       "    </tr>\n",
       "    <tr>\n",
       "      <th>4</th>\n",
       "      <td>Duckbay</td>\n",
       "      <td>None</td>\n",
       "      <td>None</td>\n",
       "    </tr>\n",
       "  </tbody>\n",
       "</table>\n",
       "</div>"
      ],
      "text/plain": [
       "                       location_of_shout   latitude longitude\n",
       "0                         Ardlui marina.       None      None\n",
       "1                                 Ardlui  56.301844 -4.721605\n",
       "2                          Ardlui marina       None      None\n",
       "3  Between Inchmurrin and Duckbay marina       None      None\n",
       "4                                Duckbay       None      None"
      ]
     },
     "execution_count": 41,
     "metadata": {},
     "output_type": "execute_result"
    }
   ],
   "source": [
    "\n",
    "# Group by location and determine number of call outs per year.\n",
    "aggregated_df = df.groupby('location_of_shout').agg({\n",
    "    'latitude': 'first',  # Since all latitudes for the same location should be equal\n",
    "    'longitude': 'first'  # Ditto for longitudes\n",
    "}).reset_index()\n",
    "\n",
    "aggregated_df.head()"
   ]
  },
  {
   "cell_type": "markdown",
   "id": "705beb0e",
   "metadata": {},
   "source": [
    "# Details and tags"
   ]
  },
  {
   "cell_type": "markdown",
   "id": "2c24907d",
   "metadata": {},
   "source": [
    "For each shout_detail item we provide shout_details_tags as a way to quickly understand the incident. Here are the tags and details they correspond to:\n",
    "\n",
    "Tag categories:\n",
    "- Mechanical\n",
    "- Rescue\n",
    "- Medical\n",
    "- Environmental\n",
    "- Mishap\n",
    "- Assistance\n",
    "- FalseAlarm\n",
    "- Miscellaneous\n",
    "- Search\n",
    "- Transport\n",
    "\n",
    "See docs/tag_categories.md for what into each category. To obtain shout_detail_tags we read each shout_detail and manually input the tags. Alternatively one could use a LLM to classify based on tags, see docs/detail_tag_prompt.md"
   ]
  },
  {
   "cell_type": "markdown",
   "id": "76274f94",
   "metadata": {},
   "source": [
    "Reading through the shout-details we see that LLRB also work with the following organisations:\n",
    "- SAS\n",
    "- LLTNP\n",
    "- DMMS\n",
    "We will enquire about cross organisational training and data sharing."
   ]
  },
  {
   "cell_type": "markdown",
   "id": "c9440bc3",
   "metadata": {},
   "source": [
    "# Weather"
   ]
  },
  {
   "cell_type": "markdown",
   "id": "a1a55a1f",
   "metadata": {},
   "source": [
    "We parsed weather_at_time_of_shout manually into a comma separated list of weather conditions. Though we did not collect weather into a shorted list of tags such as with shout-details-tags. We record these changes in \"data\\cleaned.csv\". Sometimes they record what the waves (the chop/swell level), temperature, light level,wind direction and strength, and visability level. We will ask the crew to record these details at the time of the incident - see docs/data_recording.md."
   ]
  },
  {
   "cell_type": "markdown",
   "id": "6072be6a",
   "metadata": {},
   "source": [
    "# pager_code"
   ]
  },
  {
   "cell_type": "markdown",
   "id": "4e0d7b11",
   "metadata": {},
   "source": [
    "Pager codes initially are formed of three leading terms these are:\n",
    "\n",
    "- 999 = someone in water,\n",
    "- 333 = search, \n",
    "- 222 = urgent but no threat to life\n",
    "\n",
    "Sometimes the main-pager-codes are followed by a sub-pager-code. We do not know what these sub-pager-codes refer to (we leave these for now and ask the crew later).\n",
    "\n",
    "LLRB often gets called out without need for a pager code, or with AIRWAVE. This occurs while out on training or on a previous callout. By analysing the shout-details we have retroactively assigned pager-codes to these entries (999,333,222)."
   ]
  },
  {
   "cell_type": "markdown",
   "id": "8784d532",
   "metadata": {},
   "source": [
    "Given pager_code take first three letters as the code, if there are more than three letters, take the next three letters as subcode."
   ]
  },
  {
   "cell_type": "code",
   "execution_count": 25,
   "id": "38b548ac",
   "metadata": {},
   "outputs": [],
   "source": [
    "# df['pager_code'].isna().sum()\n",
    "# df['pager_code'].fillna(\"Na\", inplace=True)"
   ]
  },
  {
   "cell_type": "markdown",
   "id": "7e65a4b9",
   "metadata": {},
   "source": [
    "Identify all rows that begin with 999,333,222 and have a subcode. Extract subcode and put into subcode."
   ]
  },
  {
   "cell_type": "code",
   "execution_count": 70,
   "id": "70856763",
   "metadata": {},
   "outputs": [
    {
     "data": {
      "text/plain": [
       "subcode\n",
       "None    209\n",
       "Name: count, dtype: int64"
      ]
     },
     "execution_count": 70,
     "metadata": {},
     "output_type": "execute_result"
    }
   ],
   "source": [
    "df['subcode'] = 'None'\n",
    "df['subcode'].value_counts()"
   ]
  },
  {
   "cell_type": "code",
   "execution_count": 71,
   "id": "366ac2f6",
   "metadata": {},
   "outputs": [],
   "source": [
    "\n",
    "#First: Identify all rows that are of form 999,333,222 only. \n",
    "\n",
    "# Identify all rows that are of form 999,333,222 only. For the subcode put None.\n",
    "df_pager_main_only = df['pager_code'].apply(lambda x: x if x in ['999','333','222'] else None)\n",
    "# df_pager_main_only.value_counts()\n",
    "\n",
    "#Now get subcodes for the rest of the rows\n",
    "\n",
    "df['subcode'] = df['pager_code'].apply(lambda x: str(x)[3:] if x not in df_pager_main_only else \"None\")"
   ]
  },
  {
   "cell_type": "markdown",
   "id": "48bc8601",
   "metadata": {},
   "source": [
    "Extract rows that do not start with a pager code of the form 999,333,222."
   ]
  },
  {
   "cell_type": "code",
   "execution_count": 72,
   "id": "65326728",
   "metadata": {},
   "outputs": [
    {
     "data": {
      "text/plain": [
       "pager_code\n",
       "333         72\n",
       "999         55\n",
       "222         45\n",
       "training     2\n",
       "9992167      1\n",
       "333 3072     1\n",
       "333 1846     1\n",
       "999 1087     1\n",
       "999 1573     1\n",
       "3332563      1\n",
       "999 2788     1\n",
       "999 2465     1\n",
       "333 1151     1\n",
       "999 1448     1\n",
       "333 1456     1\n",
       "9992336      1\n",
       "333 3439     1\n",
       "3334906      1\n",
       "9993743      1\n",
       "3333630      1\n",
       "999 1919     1\n",
       "3331753      1\n",
       "999 2784     1\n",
       "333369       1\n",
       "999 0210     1\n",
       "999 1682     1\n",
       "9991701      1\n",
       "9994432      1\n",
       "999 1324     1\n",
       "333 2265     1\n",
       "9992804      1\n",
       "3332585      1\n",
       "999 1977     1\n",
       "222 4380     1\n",
       "999 3665     1\n",
       "333 2428     1\n",
       "333 3077     1\n",
       "333 2673     1\n",
       "3331717      1\n",
       "Name: count, dtype: int64"
      ]
     },
     "execution_count": 72,
     "metadata": {},
     "output_type": "execute_result"
    }
   ],
   "source": [
    "#Identify all rows that do not start with:  999,333,222.\n",
    "# df_non = df[~df['pager_code'].astype(str).str.match(r'^(999|333|222)')]\n",
    "# print(df_non.shape) #69\n",
    "df['pager_code'].value_counts()"
   ]
  },
  {
   "cell_type": "code",
   "execution_count": 73,
   "id": "75b6c7ab",
   "metadata": {},
   "outputs": [],
   "source": [
    "# if pager_code first three values begins with 999,333,222 then replace current value with 999,333,222\n",
    "#for example if 9992127 replace with 999\n",
    "df['pager_code'] = df['pager_code'].apply(lambda x: x[:3] if str(x)[:3] in ['999','333','222'] else x)"
   ]
  },
  {
   "cell_type": "code",
   "execution_count": 74,
   "id": "908e7df7",
   "metadata": {},
   "outputs": [
    {
     "data": {
      "text/plain": [
       "pager_code\n",
       "333         88\n",
       "999         73\n",
       "222         46\n",
       "training     2\n",
       "Name: count, dtype: int64"
      ]
     },
     "execution_count": 74,
     "metadata": {},
     "output_type": "execute_result"
    }
   ],
   "source": [
    "df['pager_code'].value_counts()"
   ]
  },
  {
   "cell_type": "code",
   "execution_count": 82,
   "id": "6f7aa953",
   "metadata": {},
   "outputs": [
    {
     "data": {
      "text/html": [
       "<div>\n",
       "<style scoped>\n",
       "    .dataframe tbody tr th:only-of-type {\n",
       "        vertical-align: middle;\n",
       "    }\n",
       "\n",
       "    .dataframe tbody tr th {\n",
       "        vertical-align: top;\n",
       "    }\n",
       "\n",
       "    .dataframe thead th {\n",
       "        text-align: right;\n",
       "    }\n",
       "</style>\n",
       "<table border=\"1\" class=\"dataframe\">\n",
       "  <thead>\n",
       "    <tr style=\"text-align: right;\">\n",
       "      <th></th>\n",
       "      <th>pager_code</th>\n",
       "      <th>subcode</th>\n",
       "    </tr>\n",
       "  </thead>\n",
       "  <tbody>\n",
       "    <tr>\n",
       "      <th>0</th>\n",
       "      <td>999</td>\n",
       "      <td>2167</td>\n",
       "    </tr>\n",
       "    <tr>\n",
       "      <th>1</th>\n",
       "      <td>333</td>\n",
       "      <td>None</td>\n",
       "    </tr>\n",
       "    <tr>\n",
       "      <th>2</th>\n",
       "      <td>999</td>\n",
       "      <td>None</td>\n",
       "    </tr>\n",
       "    <tr>\n",
       "      <th>3</th>\n",
       "      <td>333</td>\n",
       "      <td>None</td>\n",
       "    </tr>\n",
       "    <tr>\n",
       "      <th>4</th>\n",
       "      <td>222</td>\n",
       "      <td>None</td>\n",
       "    </tr>\n",
       "  </tbody>\n",
       "</table>\n",
       "</div>"
      ],
      "text/plain": [
       "  pager_code subcode\n",
       "0        999    2167\n",
       "1        333    None\n",
       "2        999    None\n",
       "3        333    None\n",
       "4        222    None"
      ]
     },
     "execution_count": 82,
     "metadata": {},
     "output_type": "execute_result"
    }
   ],
   "source": [
    "# fill blanks in subcode with None\n",
    "df['subcode'] = df['subcode'].replace(['', ' '], \"None\")\n",
    "\n",
    "feats=['pager_code', 'subcode']\n",
    "\n",
    "#For those of 'subcode' not None put into a dataframe\n",
    "df[feats].head()"
   ]
  },
  {
   "cell_type": "code",
   "execution_count": 88,
   "id": "4538c850",
   "metadata": {},
   "outputs": [
    {
     "data": {
      "text/html": [
       "<div>\n",
       "<style scoped>\n",
       "    .dataframe tbody tr th:only-of-type {\n",
       "        vertical-align: middle;\n",
       "    }\n",
       "\n",
       "    .dataframe tbody tr th {\n",
       "        vertical-align: top;\n",
       "    }\n",
       "\n",
       "    .dataframe thead th {\n",
       "        text-align: right;\n",
       "    }\n",
       "</style>\n",
       "<table border=\"1\" class=\"dataframe\">\n",
       "  <thead>\n",
       "    <tr style=\"text-align: right;\">\n",
       "      <th></th>\n",
       "      <th>date_of_shout</th>\n",
       "      <th>time_of_shout</th>\n",
       "      <th>time_boat_launched</th>\n",
       "      <th>time_boat_returned</th>\n",
       "      <th>pager_code</th>\n",
       "      <th>what_three_words</th>\n",
       "      <th>location_of_shout</th>\n",
       "      <th>core_lat_long</th>\n",
       "      <th>shout_details</th>\n",
       "      <th>shout_details_tags</th>\n",
       "      <th>crew_on_board</th>\n",
       "      <th>crew_on_shore</th>\n",
       "      <th>weather_at_time_of_shout</th>\n",
       "      <th>subcode</th>\n",
       "    </tr>\n",
       "  </thead>\n",
       "  <tbody>\n",
       "    <tr>\n",
       "      <th>85</th>\n",
       "      <td>23/08/2023</td>\n",
       "      <td>19:00</td>\n",
       "      <td>19:15</td>\n",
       "      <td>20:45</td>\n",
       "      <td>training</td>\n",
       "      <td>NaN</td>\n",
       "      <td>Training</td>\n",
       "      <td>NaN</td>\n",
       "      <td>Training</td>\n",
       "      <td>FalseAlarm, Miscellaneous</td>\n",
       "      <td>ABS, GH, VM</td>\n",
       "      <td>NaN</td>\n",
       "      <td>Dry, calm</td>\n",
       "      <td>ining</td>\n",
       "    </tr>\n",
       "    <tr>\n",
       "      <th>90</th>\n",
       "      <td>06/08/2023</td>\n",
       "      <td>10:15</td>\n",
       "      <td>10:15</td>\n",
       "      <td>12:35</td>\n",
       "      <td>training</td>\n",
       "      <td>NaN</td>\n",
       "      <td>Crew Training</td>\n",
       "      <td>NaN</td>\n",
       "      <td>Crew Training, Island Familiarisation and River Leven</td>\n",
       "      <td>Miscellaneous</td>\n",
       "      <td>AM, PD ,DS, VM ,GH, EM</td>\n",
       "      <td>ABJ</td>\n",
       "      <td>Good, clear</td>\n",
       "      <td>ining</td>\n",
       "    </tr>\n",
       "  </tbody>\n",
       "</table>\n",
       "</div>"
      ],
      "text/plain": [
       "   date_of_shout time_of_shout time_boat_launched time_boat_returned  \\\n",
       "85    23/08/2023         19:00              19:15              20:45   \n",
       "90    06/08/2023         10:15              10:15              12:35   \n",
       "\n",
       "   pager_code what_three_words location_of_shout core_lat_long  \\\n",
       "85   training              NaN          Training           NaN   \n",
       "90   training              NaN     Crew Training           NaN   \n",
       "\n",
       "                                            shout_details  \\\n",
       "85                                               Training   \n",
       "90  Crew Training, Island Familiarisation and River Leven   \n",
       "\n",
       "           shout_details_tags           crew_on_board crew_on_shore  \\\n",
       "85  FalseAlarm, Miscellaneous             ABS, GH, VM           NaN   \n",
       "90              Miscellaneous  AM, PD ,DS, VM ,GH, EM           ABJ   \n",
       "\n",
       "   weather_at_time_of_shout subcode  \n",
       "85                Dry, calm   ining  \n",
       "90              Good, clear   ining  "
      ]
     },
     "execution_count": 88,
     "metadata": {},
     "output_type": "execute_result"
    }
   ],
   "source": [
    "#get rows that have pager_code as \"training\"\n",
    "df_training=df[df['pager_code'] == \"training\"]\n",
    "df_training.head()"
   ]
  },
  {
   "cell_type": "code",
   "execution_count": 89,
   "id": "75237e5c",
   "metadata": {},
   "outputs": [],
   "source": [
    "#remove df_training from df\n",
    "df = df[df['pager_code'] != \"training\"]"
   ]
  },
  {
   "cell_type": "code",
   "execution_count": 90,
   "id": "853be4ca",
   "metadata": {},
   "outputs": [
    {
     "data": {
      "text/plain": [
       "pager_code\n",
       "222                                                                                                                     [ 4380]\n",
       "333                    [ 2265, 369,  2428,  3077,  2673, 1753, 2585,  1846, 2563,  3072,  1151,  1456,  3439, 4906, 3630, 1717]\n",
       "999    [2167,  0210,  1682, 1701, 4432,  1324, 2804,  1977,  3665,  2784,  1448,  1919,  1087,  1573,  2788,  2465, 2336, 3743]\n",
       "Name: subcode, dtype: object"
      ]
     },
     "execution_count": 90,
     "metadata": {},
     "output_type": "execute_result"
    }
   ],
   "source": [
    "#get only those rows where subcode is not None with columns in feats\n",
    "df_subcode_not_none = df[df['subcode'] != 'None'][feats]\n",
    "df_subcode_not_none.head()\n",
    "df_subcode_not_none.shape\n",
    "\n",
    "#group these by pager_code and show me the subcodes for each pager code\n",
    "# df_subcode_not_none.groupby('pager_code')['subcode'].value_counts()\n",
    "\n",
    "#show these group separaltly for each pager code and list subcodes\n",
    "df_subcode_not_none.groupby('pager_code')['subcode'].unique()\n",
    "\n",
    "\n"
   ]
  },
  {
   "cell_type": "code",
   "execution_count": 91,
   "id": "cbb13054",
   "metadata": {},
   "outputs": [],
   "source": [
    "# save file \n",
    "df.to_csv(\"..\\data\\cleaned.csv\", index=False)"
   ]
  },
  {
   "cell_type": "markdown",
   "id": "d6b77423",
   "metadata": {},
   "source": [
    "# 'crew_on_board' and 'crew_on_shore'"
   ]
  },
  {
   "cell_type": "markdown",
   "id": "1024ef75",
   "metadata": {},
   "source": [
    "Crew names where not consistant. We corrected these manually into initils. We recommend that the crew on board and on shore are recorded as initials, and as a comma separated list. If there are no crew on board or on shore, record as \"None\"."
   ]
  },
  {
   "cell_type": "code",
   "execution_count": null,
   "id": "e7bba1a9",
   "metadata": {},
   "outputs": [],
   "source": [
    "{\n",
    "    \"RB\": \"Ronnie Britton\",\n",
    "    \"RO\": \"Rennie Oliver\",\n",
    "    \"IG\": \"Iain Gollan (Goz)\",\n",
    "    \"AM\": \"Ally McLeod\",\n",
    "    \"ABS\": \"Andy Biddulph Snr\",\n",
    "    \"ABJ\": \"Andy Biddulph Jnr\",\n",
    "    \"GD\": \"Gemma Dorran\",\n",
    "    \"PBT\": \"Phils Brooks-Taylor\",\n",
    "    \"DON\": \"David O'Neil\",\n",
    "    \"CC\": \"Craig Clancy\",\n",
    "    \"GH\": \"Gerry Heaney\",\n",
    "    \"AJM\": \"Angus John MacDonald\",\n",
    "    \"CMS\": \"Callum MacKenzie Stevens\",\n",
    "    \"DS\": \"David Stuart\",\n",
    "    \"TR\": \"Thomas Rogers\",\n",
    "    \"EM\": \"Euan MciIwraith\",\n",
    "    \"PD\": \"Paul Dorrian\",\n",
    "    \"KM\": \"Kevin McPartland\",\n",
    "    \"JB\": \"Jenna Biddulph\",\n",
    "    \"VM\": \"Vicki Murphy\",\n",
    "    \"JM\": \"John Mason\",\n",
    "    \"AC\": \"Andy Connell\",\n",
    "    \"FN\": \"Franny Nicol\",\n",
    "    \"FR\": \"Frank Rogers\",\n",
    "    \"CA\": \"Christine Allan\",\n",
    "    \"CS\": \"Clinton Salter\"\n",
    "    \"JT\": \"James Thomson\",\n",
    "    \"TAM\":\"Tam (Cox)\",\n",
    "    \"GERARD\",\"Gerard\",\n",
    "    \"DAVY\",\"Davy\",\n",
    "    \"LEE\",\"Lee\",\n",
    "}"
   ]
  },
  {
   "cell_type": "code",
   "execution_count": 92,
   "id": "451ac435",
   "metadata": {},
   "outputs": [],
   "source": [
    "df['crew_on_board'].fillna(\"Na\", inplace=True)\n",
    "df['crew_on_shore'].fillna(\"Na\", inplace=True)\n",
    "feats=['crew_on_board', 'crew_on_shore']\n",
    "df[feats].head()\n",
    "df_crew=df[feats]\n",
    "df_crew.value_counts()"
   ]
  }
 ],
 "metadata": {
  "kernelspec": {
   "display_name": "Python 3 (ipykernel)",
   "language": "python",
   "name": "python3"
  },
  "language_info": {
   "codemirror_mode": {
    "name": "ipython",
    "version": 3
   },
   "file_extension": ".py",
   "mimetype": "text/x-python",
   "name": "python",
   "nbconvert_exporter": "python",
   "pygments_lexer": "ipython3",
   "version": "3.10.8"
  }
 },
 "nbformat": 4,
 "nbformat_minor": 5
}
