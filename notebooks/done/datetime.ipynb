{
 "cells": [
  {
   "cell_type": "markdown",
   "id": "361b6e2a",
   "metadata": {},
   "source": [
    "In this notebook we take \"data/combined.csv\" and:\n",
    "\n",
    "1) rename the columns to be more descriptive\n",
    "2) we standardise the time/date features to be in the form 2023-09-05 and 18:03\n",
    "\n",
    "We save this data as data/preprocessed_dates_time_data.csv'"
   ]
  },
  {
   "cell_type": "code",
   "execution_count": 1,
   "id": "1c9399fa",
   "metadata": {},
   "outputs": [],
   "source": [
    "import pandas as pd \n",
    "\n",
    "df = pd.read_csv(\"../data/combined.csv\")\n",
    "\n",
    "df.drop('Unnamed: 10', axis=1, inplace=True)\n",
    "# rename columns\n",
    "df.rename(columns={'Date of Shout': 'date_of_shout',\n",
    "                     'Time of Shout': 'time_of_shout',\n",
    "                     'Pager Code': 'pager_code',\n",
    "                     'Location of Shout': 'location_of_shout',\n",
    "                     'Shout Details': 'shout_details',\n",
    "                     'Time Boat Launched': 'time_boat_launched',\n",
    "                     'Time boat returned': 'time_boat_returned',\n",
    "                     'Crew on Board': 'crew_on_board',\n",
    "                     'Crew on Shore': 'crew_on_shore',\n",
    "                     'Weather at time of shout': 'weather_at_time_of_shout'\n",
    "                     }, inplace=True)\n",
    "\n",
    "# df.head()\n",
    "# df.drop('shout_details',axis=1, inplace=True)\n",
    "\n",
    "# convert all the date columns to string\n",
    "for col in df.columns:\n",
    "    df[col] = df[col].astype(str)\n"
   ]
  },
  {
   "cell_type": "code",
   "execution_count": 2,
   "id": "ec32319f",
   "metadata": {},
   "outputs": [],
   "source": [
    "# Custom function to convert date to datetime with two different formats\n",
    "def convert_date_to_datetime(date_str):\n",
    "    \"\"\"Convert 'date_of_shout' column to datetime\n",
    "    There are two formats of dates \n",
    "    format 1 : 16/07/2023\n",
    "    format 2 :2023-09-05T00:00:00.000Z\n",
    "    I want all the dates to be in the format 2023-09-05\n",
    "    \"\"\"\n",
    "    try:\n",
    "        return pd.to_datetime(date_str, format='%d/%m/%Y').strftime('%Y-%m-%d')\n",
    "    except ValueError:\n",
    "        return pd.to_datetime(date_str).strftime('%Y-%m-%d')\n",
    "    \n"
   ]
  },
  {
   "cell_type": "code",
   "execution_count": 3,
   "id": "3f90cadd",
   "metadata": {},
   "outputs": [],
   "source": [
    "def convert_time_to_datetime(time_str):\n",
    "    \"\"\"Convert 'time_of_shout','time_boat_launched','time_boat_returned' columns into datetime\n",
    "    There are two formats of dates \n",
    "    format 1 : 15:05\t\n",
    "    format 2 : 1456\n",
    "    I want all the dates to be in a standardised format\n",
    "    \"\"\"\n",
    "    # print(\"Cleaned time string:\", time_str)  # Print cleaned time string\n",
    "\n",
    "    # Remove non-digit characters\n",
    "    time_str = ''.join(filter(str.isdigit, time_str))\n",
    "    \n",
    "    try:\n",
    "        # Try parsing time with format 'HH:MM'\n",
    "        return pd.to_datetime(time_str.zfill(4), format='%H%M').strftime('%H:%M')\n",
    "    except ValueError:\n",
    "        return None  # Return None if conversion fails\n"
   ]
  },
  {
   "cell_type": "code",
   "execution_count": 4,
   "id": "09fc167a",
   "metadata": {},
   "outputs": [],
   "source": [
    "# Convert 'time_of_shout', 'time_boat_launched', and 'time_boat_returned' columns to datetime\n",
    "df['time_of_shout'] = df['time_of_shout'].apply(convert_time_to_datetime)\n",
    "df['time_boat_launched'] = df['time_boat_launched'].apply(convert_time_to_datetime)\n",
    "df['time_boat_returned'] = df['time_boat_returned'].apply(convert_time_to_datetime)\n",
    "\n",
    "# Convert 'date_of_shout' column to datetime\n",
    "df['date_of_shout'] = df['date_of_shout'].apply(convert_date_to_datetime)\n",
    "df.head()\n"
   ]
  },
  {
   "cell_type": "code",
   "execution_count": 6,
   "id": "fe3ce1d5",
   "metadata": {},
   "outputs": [],
   "source": [
    "# save the cleaned data to a new csv file\n",
    "df.to_csv('../data/preprocessed_dates_time_data.csv', index=False)"
   ]
  }
 ],
 "metadata": {
  "kernelspec": {
   "display_name": "Python 3 (ipykernel)",
   "language": "python",
   "name": "python3"
  },
  "language_info": {
   "codemirror_mode": {
    "name": "ipython",
    "version": 3
   },
   "file_extension": ".py",
   "mimetype": "text/x-python",
   "name": "python",
   "nbconvert_exporter": "python",
   "pygments_lexer": "ipython3",
   "version": "3.10.8"
  }
 },
 "nbformat": 4,
 "nbformat_minor": 5
}
