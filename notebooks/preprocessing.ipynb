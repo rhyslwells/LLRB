{
 "cells": [
  {
   "cell_type": "markdown",
   "id": "d4a554e2",
   "metadata": {},
   "source": [
    "# Overview"
   ]
  },
  {
   "cell_type": "markdown",
   "id": "b0a355cb",
   "metadata": {},
   "source": [
    "We now clean more involved features. Due to the data set being relatively small we are able to manually preprerocess given features. In particular:\n",
    "\n",
    "- location\n",
    "- details and tags\n",
    "- crew\n",
    "- pager code"
   ]
  },
  {
   "cell_type": "markdown",
   "id": "7508e52a",
   "metadata": {},
   "source": [
    "# Data"
   ]
  },
  {
   "cell_type": "code",
   "execution_count": null,
   "id": "6fd17187",
   "metadata": {},
   "outputs": [],
   "source": [
    "import pandas as pd "
   ]
  },
  {
   "cell_type": "code",
   "execution_count": null,
   "id": "099696c3",
   "metadata": {},
   "outputs": [],
   "source": [
    "df = pd.read_csv(\"..\\data\\cleaned.csv\")\n",
    "# df.columns\n",
    "df.head()"
   ]
  },
  {
   "cell_type": "code",
   "execution_count": null,
   "id": "64e5fb9e",
   "metadata": {},
   "outputs": [],
   "source": [
    "# Filter the DataFrame to get rows where 'pager_code' \n",
    "value=\"333\"\n",
    "filtered_df = df[df['pager_code'] == value]\n",
    "pd.set_option('display.max_colwidth', None)\n",
    "filtered_df[['pager_code', 'shout_details']].head(3)"
   ]
  },
  {
   "cell_type": "markdown",
   "id": "78de1ca6",
   "metadata": {},
   "source": [
    "# Location"
   ]
  },
  {
   "cell_type": "markdown",
   "id": "744f688b",
   "metadata": {},
   "source": [
    "Based on misspellings of locations and vague descriptions (e.g., \"south of Ardlui\"), if the location is \"south of Ardlui\" we record the location \"Ardlui\"  and in adjustment_km we record south,2km - we take 2km as a rough estimate of the distance south. We input this as (s,2).\n",
    "\n",
    "We manually input the longitude and latitude coordinates with google maps (DD format).We input the coordinates of the location (Ardlui) into Google Maps and record the core latitude and longitude from there (core_long_lat). It's important to note that the specific location may not be precise during search operations."
   ]
  },
  {
   "cell_type": "code",
   "execution_count": null,
   "id": "4cf4c79c",
   "metadata": {},
   "outputs": [],
   "source": [
    "# import pandas as pd \n",
    "\n",
    "# df = pd.read_csv(\"..\\data\\codes_preprocessed_dates_time_data.csv\")\n",
    "# # df.drop(columns=[\"shout_details\"], inplace=True)\n",
    "# # df.columns\n",
    "# df.fillna({\"location_of_shout\": \"Na\"}, inplace=True)\n",
    "feats=['location_of_shout']\n",
    "df_loc=df[feats]\n",
    "# df_loc.value_counts()"
   ]
  },
  {
   "cell_type": "markdown",
   "id": "038396d4",
   "metadata": {},
   "source": [
    "## Adjustments to given more accurate positions"
   ]
  },
  {
   "cell_type": "markdown",
   "id": "735cd2d5",
   "metadata": {},
   "source": [
    "\n",
    "\n",
    "\n",
    "\n",
    "Adjustments to coordinates \n",
    "- Given core_long_lat use adjustment_km to get adj_long_lat\n",
    "\n",
    "Notes:\n",
    "  - How to change the coordinates from a given position to say 5km north of it.\n",
    "  - Recall we working in UK so norther hemisphere (for latitude based around the equator). With respect tothe longitude (based around the prime meridian) with loch lomond positioned in western hemisphere. Lets assume the earth is shaped like a sphere.\n",
    "  - 1 degree of latitude is 111km\n",
    "\n",
    "Resources:\n",
    "  - https://gis.stackexchange.com/questions/5821/calculating-latitude-longitude-x-miles-from-point\n",
    "\n",
    "- Use adj_long_lat and put onto map "
   ]
  },
  {
   "cell_type": "code",
   "execution_count": null,
   "id": "4d89b715",
   "metadata": {},
   "outputs": [],
   "source": [
    "if none adjustment copy core to adj_long_lat \n",
    "\n",
    "then split adj_long_lat into long and lat"
   ]
  },
  {
   "cell_type": "code",
   "execution_count": null,
   "id": "ecda6711",
   "metadata": {},
   "outputs": [],
   "source": [
    "import math\n",
    "\n",
    "if adjustment \"None\" skip\n",
    "else:\n",
    "\n",
    "\n",
    "def adjust_coordinates(original_lat, original_lon, distance_km, direction):\n",
    "    # Radius of the Earth in kilometers\n",
    "    R = 6371.0\n",
    "    \n",
    "    # Convert latitude and longitude to radians\n",
    "    lat_rad = math.radians(original_lat)\n",
    "    lon_rad = math.radians(original_lon)\n",
    "    \n",
    "    # Calculate change in latitude and longitude based on direction\n",
    "    if direction == \"north\":\n",
    "        delta_lat_deg = distance_km / R * (180.0 / math.pi)\n",
    "        delta_lon_deg = 0\n",
    "    elif direction == \"south\":\n",
    "        delta_lat_deg = -distance_km / R * (180.0 / math.pi)\n",
    "        delta_lon_deg = 0\n",
    "    elif direction == \"east\":\n",
    "        delta_lat_deg = 0\n",
    "        delta_lon_deg = distance_km / (R * math.cos(lat_rad)) * (180.0 / math.pi)\n",
    "    elif direction == \"west\":\n",
    "        delta_lat_deg = 0\n",
    "        delta_lon_deg = -distance_km / (R * math.cos(lat_rad)) * (180.0 / math.pi)\n",
    "    else:\n",
    "        raise ValueError(\"Invalid direction. Direction must be 'north', 'south', 'east', or 'west'.\")\n",
    "    \n",
    "    # Calculate new latitude and longitude\n",
    "    new_lat = original_lat + delta_lat_deg\n",
    "    new_lon = original_lon + delta_lon_deg\n",
    "    \n",
    "    return new_lat, new_lon\n"
   ]
  },
  {
   "cell_type": "code",
   "execution_count": null,
   "id": "c9ef3ec2",
   "metadata": {},
   "outputs": [],
   "source": [
    "\n",
    "# Example usage:\n",
    "original_lat = 40.7128  # Example original latitude\n",
    "original_lon = -74.0060  # Example original longitude\n",
    "distance_km = 5  # Distance to move\n",
    "direction = \"north\"  # Direction to move\n",
    "\n",
    "new_lat, new_lon = adjust_coordinates(original_lat, original_lon, distance_km, direction)\n",
    "print(\"Adjusted Coordinates:\", new_lat, \"N,\", new_lon, \"W\")\n"
   ]
  },
  {
   "cell_type": "markdown",
   "id": "645e0c68",
   "metadata": {},
   "source": [
    "## Automation of position"
   ]
  },
  {
   "cell_type": "markdown",
   "id": "0eee6d6f",
   "metadata": {},
   "source": [
    "To-do:\n",
    "\n",
    "    -[ ] Utilize geopy to obtain the coordinates of the location based on the shout's location (so we can automate the process).\n",
    "    -[ ] Implement functionality to accept What3Words coordinates.\n"
   ]
  },
  {
   "cell_type": "markdown",
   "id": "d866d34d",
   "metadata": {},
   "source": [
    "Provide a function that takes a location and provides core_long_lat value.\n",
    "\n",
    "Given a map and location data need to be able to convert to longitude/latitude data.\n",
    "\n",
    "https://geopy.readthedocs.io/en/stable/index.html?highlight=what%20three%20words#geopy.geocoders.What3WordsV3.geocode\n"
   ]
  },
  {
   "cell_type": "markdown",
   "id": "705beb0e",
   "metadata": {},
   "source": [
    "# Details and tags"
   ]
  },
  {
   "cell_type": "markdown",
   "id": "2c24907d",
   "metadata": {},
   "source": [
    "For each shout_detail item we provide shout_details_tags as a way to quickly understand the incident. Here are the tags and details they correspond to:\n",
    "\n",
    "Tag categories:\n",
    "- Mechanical\n",
    "- Rescue\n",
    "- Medical\n",
    "- Environmental\n",
    "- Mishap\n",
    "- Assistance\n",
    "- FalseAlarm\n",
    "- Miscellaneous\n",
    "- Search\n",
    "- Transport\n",
    "\n",
    "See docs/tag_categories.md for what into each category. To obtain shout_detail_tags we read each shout_detail and manually input the tags. Alternatively one could use a LLM to classify based on tags, see docs/detail_tag_prompt.md"
   ]
  },
  {
   "cell_type": "markdown",
   "id": "76274f94",
   "metadata": {},
   "source": [
    "Reading through the shout-detials we see that LLRB also work with the follwoing organisations:\n",
    "- SAS\n",
    "- LLTNP\n",
    "- DMMS"
   ]
  },
  {
   "cell_type": "markdown",
   "id": "c9440bc3",
   "metadata": {},
   "source": [
    "# Weather"
   ]
  },
  {
   "cell_type": "markdown",
   "id": "a1a55a1f",
   "metadata": {},
   "source": [
    "We parsed weather_at_time_of_shout manually into a comma separated list of weather conditions. \n",
    "\n",
    "We record these changes in:\n",
    "\n",
    "\"data\\codes_preprocessed_dates_time_data.csv\"\n",
    "\n",
    "Sometimes they record what the waves (the chop/swell level),temperature, light level,wind direction and strength, and visability level.\n",
    "\n",
    "We can ask the crew to record these details at the time of the incident."
   ]
  },
  {
   "cell_type": "markdown",
   "id": "6072be6a",
   "metadata": {},
   "source": [
    "# pager_code"
   ]
  },
  {
   "cell_type": "markdown",
   "id": "4e0d7b11",
   "metadata": {},
   "source": [
    "Pager codes initially are formed of three leading terms these are:\n",
    "\n",
    "- 999 = someone in water,\n",
    "- 333 = search, \n",
    "- 222 = urgent but no threat to life\n",
    "\n",
    "Sometimes the main-pager-codes are followed by a sub-pager-code. We do not know what these sub-pager-codes refer to (we leave these for now).\n",
    "\n",
    "LLRB often gets called out without need for a pager code, or with AIRWAVE. This occurs while out on training or on a previous callout.\n",
    "\n",
    "\n",
    "We will ask the crew to provide more information on these. If they are not able to provide more information we will will leave the pager-codes as they are."
   ]
  },
  {
   "cell_type": "markdown",
   "id": "8784d532",
   "metadata": {},
   "source": [
    "Given pager_code take first three letters as the code, if there are more than three letters, take the next three letters as subcode.\n"
   ]
  },
  {
   "cell_type": "code",
   "execution_count": 25,
   "id": "38b548ac",
   "metadata": {},
   "outputs": [],
   "source": [
    "df['pager_code'].fillna(\"Na\", inplace=True)"
   ]
  },
  {
   "cell_type": "code",
   "execution_count": 58,
   "id": "4f324d35",
   "metadata": {},
   "outputs": [
    {
     "data": {
      "text/html": [
       "<div>\n",
       "<style scoped>\n",
       "    .dataframe tbody tr th:only-of-type {\n",
       "        vertical-align: middle;\n",
       "    }\n",
       "\n",
       "    .dataframe tbody tr th {\n",
       "        vertical-align: top;\n",
       "    }\n",
       "\n",
       "    .dataframe thead th {\n",
       "        text-align: right;\n",
       "    }\n",
       "</style>\n",
       "<table border=\"1\" class=\"dataframe\">\n",
       "  <thead>\n",
       "    <tr style=\"text-align: right;\">\n",
       "      <th></th>\n",
       "      <th>pager_code</th>\n",
       "      <th>shout_details</th>\n",
       "    </tr>\n",
       "  </thead>\n",
       "  <tbody>\n",
       "    <tr>\n",
       "      <th>1</th>\n",
       "      <td>333</td>\n",
       "      <td>17' Fletcher speedboat with 1 male occupant had suffered mechanical failure and was drifting just south of Ardlui. The boat and occupant were put on a long tow and taken back to their berth at Rowardennan</td>\n",
       "    </tr>\n",
       "    <tr>\n",
       "      <th>3</th>\n",
       "      <td>333</td>\n",
       "      <td>Reports of a small craft adrift out in front of Duckbay. After a quick search the small tender was located on the shore line. Small craft was found to be damaged and was removed from the water.</td>\n",
       "    </tr>\n",
       "    <tr>\n",
       "      <th>5</th>\n",
       "      <td>333</td>\n",
       "      <td>Report of a vessel drifted from beach with no persons onboard. Caller informed Police Scotland that he was on the beach and required assistance to retrieve the vessel. LLRB launched to support, once on scene  crew quickly located the caller who advised local campers were able to assist retrieve his vessel, all being well LLRB stood down and returned to base.</td>\n",
       "    </tr>\n",
       "    <tr>\n",
       "      <th>6</th>\n",
       "      <td>333</td>\n",
       "      <td>Cuddy drifted ashore onto Boturich shore line with 4 on board, boat taken back to duncan mills</td>\n",
       "    </tr>\n",
       "    <tr>\n",
       "      <th>7</th>\n",
       "      <td>333</td>\n",
       "      <td>LLRB paged to assist male who had kayaked across the Loch from the A82 side but was now stranded on the west highland way after suffering damage to his inflatable , male &amp; his kayak were taken to Luss pier to meet his family and return home , LLRB stood down returning to base at 00:48</td>\n",
       "    </tr>\n",
       "  </tbody>\n",
       "</table>\n",
       "</div>"
      ],
      "text/plain": [
       "  pager_code  \\\n",
       "1        333   \n",
       "3        333   \n",
       "5        333   \n",
       "6        333   \n",
       "7        333   \n",
       "\n",
       "                                                                                                                                                                                                                                                                                                                                                              shout_details  \n",
       "1                                                                                                                                                              17' Fletcher speedboat with 1 male occupant had suffered mechanical failure and was drifting just south of Ardlui. The boat and occupant were put on a long tow and taken back to their berth at Rowardennan  \n",
       "3                                                                                                                                                                         Reports of a small craft adrift out in front of Duckbay. After a quick search the small tender was located on the shore line. Small craft was found to be damaged and was removed from the water.  \n",
       "5  Report of a vessel drifted from beach with no persons onboard. Caller informed Police Scotland that he was on the beach and required assistance to retrieve the vessel. LLRB launched to support, once on scene  crew quickly located the caller who advised local campers were able to assist retrieve his vessel, all being well LLRB stood down and returned to base.  \n",
       "6                                                                                                                                                                                                                                                                            Cuddy drifted ashore onto Boturich shore line with 4 on board, boat taken back to duncan mills  \n",
       "7                                                                             LLRB paged to assist male who had kayaked across the Loch from the A82 side but was now stranded on the west highland way after suffering damage to his inflatable , male & his kayak were taken to Luss pier to meet his family and return home , LLRB stood down returning to base at 00:48  "
      ]
     },
     "execution_count": 58,
     "metadata": {},
     "output_type": "execute_result"
    }
   ],
   "source": []
  },
  {
   "cell_type": "markdown",
   "id": "7e65a4b9",
   "metadata": {},
   "source": [
    "Identify all rows that begin with 999,333,222 and have a subcode. Extract subcode and put into subcode."
   ]
  },
  {
   "cell_type": "code",
   "execution_count": 27,
   "id": "8d595be2",
   "metadata": {},
   "outputs": [],
   "source": [
    "#First put all subcodes as None\n",
    "df['subcode']=None\n",
    "\n",
    "#First: Identify all rows that are of form 999,333,222 only. \n",
    "\n",
    "# Identify all rows that are of form 999,333,222 only. For the subcode put None.\n",
    "df_pager_main_only = df['pager_code'].apply(lambda x: x if x in ['999','333','222'] else None)\n",
    "# df_pager_main_only.value_counts()\n",
    "\n",
    "#Now get subcodes for the rest of the rows\n",
    "\n",
    "df['subcode'] = df['pager_code'].apply(lambda x: str(x)[3:] if x not in df_pager_main_only else None)"
   ]
  },
  {
   "cell_type": "markdown",
   "id": "48bc8601",
   "metadata": {},
   "source": [
    "Extract rows that do not start with a pager code of the form 999,333,222."
   ]
  },
  {
   "cell_type": "code",
   "execution_count": 28,
   "id": "65326728",
   "metadata": {},
   "outputs": [
    {
     "name": "stdout",
     "output_type": "stream",
     "text": [
      "(69, 7)\n"
     ]
    },
    {
     "data": {
      "text/plain": [
       "pager_code\n",
       "Na                                     50\n",
       "other / already out                     5\n",
       "On water                                2\n",
       "AIRWAVE                                 2\n",
       "Na on water                             2\n",
       "Nil                                     1\n",
       "N/A   AB messaged                       1\n",
       "N/a                                     1\n",
       "3032                                    1\n",
       "Na already on water at safety event     1\n",
       "11:30                                   1\n",
       "Na already out                          1\n",
       "Na just returned from previous          1\n",
       "Name: count, dtype: int64"
      ]
     },
     "execution_count": 28,
     "metadata": {},
     "output_type": "execute_result"
    }
   ],
   "source": [
    "#Identify all rows that do not start with:  999,333,222.\n",
    "\n",
    "df_non = df[~df['pager_code'].astype(str).str.match(r'^(999|333|222)')]\n",
    "# print(df_non.shape) #69\n",
    "df_non['pager_code'].value_counts()"
   ]
  },
  {
   "cell_type": "code",
   "execution_count": null,
   "id": "811ea441",
   "metadata": {},
   "outputs": [],
   "source": [
    "#save those that begin with 999,333,222\n",
    "df_main = df[df['pager_code'].astype(str).str.match(r'^(999|333|222)')]\n",
    "\n",
    "# Once pager_code has be entered for those without (df_non), concate df_main and created df_non_entered.\n",
    "# identify those pager_codes that need to be entered in for based on shout_details.\n",
    "#See pager code descriptions\n",
    "\n",
    "# save df_non to csv\n",
    "# df_non.to_csv('../data/pager_codes_missing.csv', index=False)"
   ]
  },
  {
   "cell_type": "markdown",
   "id": "d6b77423",
   "metadata": {},
   "source": [
    "# 'crew_on_board' and 'crew_on_shore'"
   ]
  },
  {
   "cell_type": "markdown",
   "id": "1024ef75",
   "metadata": {},
   "source": [
    "Ask those recording to record the initials of the crew on board and on shore in a comma separated list. If there are no crew on board or on shore, record as \"None\"."
   ]
  },
  {
   "cell_type": "code",
   "execution_count": null,
   "id": "e7bba1a9",
   "metadata": {},
   "outputs": [],
   "source": [
    "{\n",
    "    \"RB\": \"Ronnie Britton\",\n",
    "    \"RO\": \"Rennie Oliver\",\n",
    "    \"IG\": \"Iain Gollan (Goz)\",\n",
    "    \"AM\": \"Ally McLeod\",\n",
    "    \"ABS\": \"Andy Biddulph Snr\",\n",
    "    \"ABJ\": \"Andy Biddulph Jnr\",\n",
    "    \"GD\": \"Gemma Dorran\",\n",
    "    \"PBT\": \"Phils Brooks-Taylor\",\n",
    "    \"DON\": \"David O'Neil\",\n",
    "    \"CC\": \"Craig Clancy\",\n",
    "    \"GH\": \"Gerry Heaney\",\n",
    "    \"AJM\": \"Angus John MacDonald\",\n",
    "    \"CMS\": \"Callum MacKenzie Stevens\",\n",
    "    \"DS\": \"David Stuart\",\n",
    "    \"TR\": \"Thomas Rogers\",\n",
    "    \"EM\": \"Euan MciIwraith\",\n",
    "    \"PD\": \"Paul Dorrian\",\n",
    "    \"KM\": \"Kevin McPartland\",\n",
    "    \"JB\": \"Jenna Biddulph\",\n",
    "    \"VM\": \"Vicki Murphy\",\n",
    "    \"JM\": \"John Mason\",\n",
    "    \"AC\": \"Andy Connell\",\n",
    "    \"FN\": \"Franny Nicol\",\n",
    "    \"FR\": \"Frank Rogers\",\n",
    "    \"CA\": \"Christine Allan\",\n",
    "    \"CS\": \"Clinton Salter\"\n",
    "    \"JT\": \"James Thomson\",\n",
    "    \"TAM\":\"Tam (Cox)\",\n",
    "    \"GERARD\",\"Gerard\",\n",
    "    \"DAVY\",\"Davy\",\n",
    "    \"LEE\",\"Lee\",\n",
    "}"
   ]
  },
  {
   "cell_type": "markdown",
   "id": "60734305",
   "metadata": {},
   "source": [
    "#TODO! \n",
    "\n",
    "Remember to convert weather, details and location to lower case.\n",
    "\n",
    "Ensure crew spaces are removed\n"
   ]
  },
  {
   "cell_type": "code",
   "execution_count": null,
   "id": "9b26b38f",
   "metadata": {},
   "outputs": [],
   "source": [
    "import pandas as pd \n",
    "\n",
    "df = pd.read_csv(\"..\\data\\codes_preprocessed_dates_time_data.csv\")\n",
    "# df.drop(columns=[\"shout_details\"], inplace=True)\n",
    "# df.columns"
   ]
  },
  {
   "cell_type": "code",
   "execution_count": null,
   "id": "64fd7bf8",
   "metadata": {},
   "outputs": [],
   "source": [
    "#Turn values into comma separated values.\n",
    "# Keep as Initials for now."
   ]
  },
  {
   "cell_type": "code",
   "execution_count": null,
   "id": "0c38da8c",
   "metadata": {},
   "outputs": [],
   "source": [
    "df['crew_on_board'].fillna(\"Na\", inplace=True)\n",
    "df['crew_on_shore'].fillna(\"Na\", inplace=True)"
   ]
  },
  {
   "cell_type": "code",
   "execution_count": 65,
   "id": "451ac435",
   "metadata": {},
   "outputs": [],
   "source": [
    "feats=['crew_on_board', 'crew_on_shore']\n",
    "df[feats].head()\n",
    "df_crew=df[feats]"
   ]
  },
  {
   "cell_type": "code",
   "execution_count": null,
   "id": "01b96611",
   "metadata": {},
   "outputs": [],
   "source": [
    "df_crew.value_counts()\n",
    "#For crew_on_board\n",
    "# seperate comma serparated values for each row. \n",
    "#count the number of times a given name appears.\n",
    "\n",
    "#For a given name get a list of pager_codes that they have been on board for.\n",
    "# Similarly get the weather for this persons callouts."
   ]
  }
 ],
 "metadata": {
  "kernelspec": {
   "display_name": "Python 3 (ipykernel)",
   "language": "python",
   "name": "python3"
  },
  "language_info": {
   "codemirror_mode": {
    "name": "ipython",
    "version": 3
   },
   "file_extension": ".py",
   "mimetype": "text/x-python",
   "name": "python",
   "nbconvert_exporter": "python",
   "pygments_lexer": "ipython3",
   "version": "3.10.8"
  }
 },
 "nbformat": 4,
 "nbformat_minor": 5
}
